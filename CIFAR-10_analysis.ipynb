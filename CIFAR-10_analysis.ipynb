{
  "nbformat": 4,
  "nbformat_minor": 0,
  "metadata": {
    "colab": {
      "name": "MidProject.ipynb",
      "provenance": [],
      "collapsed_sections": []
    },
    "kernelspec": {
      "name": "python3",
      "display_name": "Python 3"
    },
    "accelerator": "GPU"
  },
  "cells": [
    {
      "cell_type": "markdown",
      "metadata": {
        "id": "YKcu5pJ0cwHg"
      },
      "source": [
        "# Applied Neural Networks Mid-Project\n",
        "\n",
        "Due Tuesday 11am, March 31, 2020"
      ]
    },
    {
      "cell_type": "markdown",
      "metadata": {
        "id": "gple3Yuxem1H"
      },
      "source": [
        "Set up imports and download [CIFAR-10](https://www.cs.toronto.edu/~kriz/cifar.html) dataset"
      ]
    },
    {
      "cell_type": "code",
      "metadata": {
        "id": "XINUdfFPctNz",
        "colab": {
          "base_uri": "https://localhost:8080/",
          "height": 50
        },
        "outputId": "7ab231b6-55f7-4e1c-d66b-c902986c34aa"
      },
      "source": [
        "%tensorflow_version 2.x\n",
        "import tensorflow as tf\n",
        "from tensorflow import keras\n",
        "\n",
        "(X_train_full, y_train_full), (X_test, y_test) = keras.datasets.cifar10.load_data()"
      ],
      "execution_count": null,
      "outputs": [
        {
          "output_type": "stream",
          "text": [
            "Downloading data from https://www.cs.toronto.edu/~kriz/cifar-10-python.tar.gz\n",
            "170500096/170498071 [==============================] - 11s 0us/step\n"
          ],
          "name": "stdout"
        }
      ]
    },
    {
      "cell_type": "markdown",
      "metadata": {
        "id": "mfVphX7ke7qW"
      },
      "source": [
        "**Question 1**<br/>\n",
        "Explore and preprocess the CIFAR-10 datset. There should be 50 000 images in your training set and 10 000 images in your testing set. Each image is 32x32 pixels and each pixel has an RGB 3-vector. There are ten different classes."
      ]
    },
    {
      "cell_type": "code",
      "metadata": {
        "id": "WYvkVwEjiqPe",
        "colab": {
          "base_uri": "https://localhost:8080/",
          "height": 34
        },
        "outputId": "dfb5b1d6-0677-4a83-e02b-a078686394cc"
      },
      "source": [
        "X_train_full.shape"
      ],
      "execution_count": null,
      "outputs": [
        {
          "output_type": "execute_result",
          "data": {
            "text/plain": [
              "(50000, 32, 32, 3)"
            ]
          },
          "metadata": {
            "tags": []
          },
          "execution_count": 2
        }
      ]
    },
    {
      "cell_type": "code",
      "metadata": {
        "id": "2dGFS3ggiqSV",
        "colab": {
          "base_uri": "https://localhost:8080/",
          "height": 34
        },
        "outputId": "9bd83608-bd70-4712-d87e-2c179d454855"
      },
      "source": [
        "y_train_full.shape"
      ],
      "execution_count": null,
      "outputs": [
        {
          "output_type": "execute_result",
          "data": {
            "text/plain": [
              "(50000, 1)"
            ]
          },
          "metadata": {
            "tags": []
          },
          "execution_count": 3
        }
      ]
    },
    {
      "cell_type": "code",
      "metadata": {
        "id": "ZRqtR-pNb6f2",
        "colab": {
          "base_uri": "https://localhost:8080/",
          "height": 34
        },
        "outputId": "5588644c-c5e0-4044-be1e-8faa8b0d7057"
      },
      "source": [
        "X_test.shape"
      ],
      "execution_count": null,
      "outputs": [
        {
          "output_type": "execute_result",
          "data": {
            "text/plain": [
              "(10000, 32, 32, 3)"
            ]
          },
          "metadata": {
            "tags": []
          },
          "execution_count": 4
        }
      ]
    },
    {
      "cell_type": "code",
      "metadata": {
        "id": "ByHpKh1db6iZ",
        "colab": {
          "base_uri": "https://localhost:8080/",
          "height": 269
        },
        "outputId": "ff505759-0e8f-4f78-9b84-f0b05c1aadc2"
      },
      "source": [
        "y_train_full[:15]"
      ],
      "execution_count": null,
      "outputs": [
        {
          "output_type": "execute_result",
          "data": {
            "text/plain": [
              "array([[6],\n",
              "       [9],\n",
              "       [9],\n",
              "       [4],\n",
              "       [1],\n",
              "       [1],\n",
              "       [2],\n",
              "       [7],\n",
              "       [8],\n",
              "       [3],\n",
              "       [4],\n",
              "       [7],\n",
              "       [7],\n",
              "       [2],\n",
              "       [9]], dtype=uint8)"
            ]
          },
          "metadata": {
            "tags": []
          },
          "execution_count": 5
        }
      ]
    },
    {
      "cell_type": "code",
      "metadata": {
        "id": "yJbeMtMvb6lO",
        "colab": {
          "base_uri": "https://localhost:8080/",
          "height": 840
        },
        "outputId": "3cc70e50-8372-463f-e3b4-8fe209d146f6"
      },
      "source": [
        "X_train_full[0]"
      ],
      "execution_count": null,
      "outputs": [
        {
          "output_type": "execute_result",
          "data": {
            "text/plain": [
              "array([[[ 59,  62,  63],\n",
              "        [ 43,  46,  45],\n",
              "        [ 50,  48,  43],\n",
              "        ...,\n",
              "        [158, 132, 108],\n",
              "        [152, 125, 102],\n",
              "        [148, 124, 103]],\n",
              "\n",
              "       [[ 16,  20,  20],\n",
              "        [  0,   0,   0],\n",
              "        [ 18,   8,   0],\n",
              "        ...,\n",
              "        [123,  88,  55],\n",
              "        [119,  83,  50],\n",
              "        [122,  87,  57]],\n",
              "\n",
              "       [[ 25,  24,  21],\n",
              "        [ 16,   7,   0],\n",
              "        [ 49,  27,   8],\n",
              "        ...,\n",
              "        [118,  84,  50],\n",
              "        [120,  84,  50],\n",
              "        [109,  73,  42]],\n",
              "\n",
              "       ...,\n",
              "\n",
              "       [[208, 170,  96],\n",
              "        [201, 153,  34],\n",
              "        [198, 161,  26],\n",
              "        ...,\n",
              "        [160, 133,  70],\n",
              "        [ 56,  31,   7],\n",
              "        [ 53,  34,  20]],\n",
              "\n",
              "       [[180, 139,  96],\n",
              "        [173, 123,  42],\n",
              "        [186, 144,  30],\n",
              "        ...,\n",
              "        [184, 148,  94],\n",
              "        [ 97,  62,  34],\n",
              "        [ 83,  53,  34]],\n",
              "\n",
              "       [[177, 144, 116],\n",
              "        [168, 129,  94],\n",
              "        [179, 142,  87],\n",
              "        ...,\n",
              "        [216, 184, 140],\n",
              "        [151, 118,  84],\n",
              "        [123,  92,  72]]], dtype=uint8)"
            ]
          },
          "metadata": {
            "tags": []
          },
          "execution_count": 6
        }
      ]
    },
    {
      "cell_type": "code",
      "metadata": {
        "id": "7QnkG3H_b6oE",
        "colab": {
          "base_uri": "https://localhost:8080/",
          "height": 572
        },
        "outputId": "0a1dbe6f-eae3-4950-faae-95e3af6bcf43"
      },
      "source": [
        "import matplotlib.pyplot as plt\n",
        "plt.imshow(X_train_full[0], cmap=\"binary\")"
      ],
      "execution_count": null,
      "outputs": [
        {
          "output_type": "error",
          "ename": "TypeError",
          "evalue": "ignored",
          "traceback": [
            "\u001b[0;31m---------------------------------------------------------------------------\u001b[0m",
            "\u001b[0;31mTypeError\u001b[0m                                 Traceback (most recent call last)",
            "\u001b[0;32m<ipython-input-66-119f3aca291c>\u001b[0m in \u001b[0;36m<module>\u001b[0;34m()\u001b[0m\n\u001b[1;32m      1\u001b[0m \u001b[0;32mimport\u001b[0m \u001b[0mmatplotlib\u001b[0m\u001b[0;34m.\u001b[0m\u001b[0mpyplot\u001b[0m \u001b[0;32mas\u001b[0m \u001b[0mplt\u001b[0m\u001b[0;34m\u001b[0m\u001b[0;34m\u001b[0m\u001b[0m\n\u001b[0;32m----> 2\u001b[0;31m \u001b[0mplt\u001b[0m\u001b[0;34m.\u001b[0m\u001b[0mimshow\u001b[0m\u001b[0;34m(\u001b[0m\u001b[0mX_train_full\u001b[0m\u001b[0;34m[\u001b[0m\u001b[0;36m0\u001b[0m\u001b[0;34m]\u001b[0m\u001b[0;34m,\u001b[0m \u001b[0mcmap\u001b[0m\u001b[0;34m=\u001b[0m\u001b[0;34m\"binary\"\u001b[0m\u001b[0;34m)\u001b[0m\u001b[0;34m\u001b[0m\u001b[0;34m\u001b[0m\u001b[0m\n\u001b[0m",
            "\u001b[0;32m/usr/local/lib/python3.6/dist-packages/matplotlib/pyplot.py\u001b[0m in \u001b[0;36mimshow\u001b[0;34m(X, cmap, norm, aspect, interpolation, alpha, vmin, vmax, origin, extent, shape, filternorm, filterrad, imlim, resample, url, data, **kwargs)\u001b[0m\n\u001b[1;32m   2649\u001b[0m         \u001b[0mfilternorm\u001b[0m\u001b[0;34m=\u001b[0m\u001b[0mfilternorm\u001b[0m\u001b[0;34m,\u001b[0m \u001b[0mfilterrad\u001b[0m\u001b[0;34m=\u001b[0m\u001b[0mfilterrad\u001b[0m\u001b[0;34m,\u001b[0m \u001b[0mimlim\u001b[0m\u001b[0;34m=\u001b[0m\u001b[0mimlim\u001b[0m\u001b[0;34m,\u001b[0m\u001b[0;34m\u001b[0m\u001b[0;34m\u001b[0m\u001b[0m\n\u001b[1;32m   2650\u001b[0m         resample=resample, url=url, **({\"data\": data} if data is not\n\u001b[0;32m-> 2651\u001b[0;31m         None else {}), **kwargs)\n\u001b[0m\u001b[1;32m   2652\u001b[0m     \u001b[0msci\u001b[0m\u001b[0;34m(\u001b[0m\u001b[0m__ret\u001b[0m\u001b[0;34m)\u001b[0m\u001b[0;34m\u001b[0m\u001b[0;34m\u001b[0m\u001b[0m\n\u001b[1;32m   2653\u001b[0m     \u001b[0;32mreturn\u001b[0m \u001b[0m__ret\u001b[0m\u001b[0;34m\u001b[0m\u001b[0;34m\u001b[0m\u001b[0m\n",
            "\u001b[0;32m/usr/local/lib/python3.6/dist-packages/matplotlib/__init__.py\u001b[0m in \u001b[0;36minner\u001b[0;34m(ax, data, *args, **kwargs)\u001b[0m\n\u001b[1;32m   1563\u001b[0m     \u001b[0;32mdef\u001b[0m \u001b[0minner\u001b[0m\u001b[0;34m(\u001b[0m\u001b[0max\u001b[0m\u001b[0;34m,\u001b[0m \u001b[0;34m*\u001b[0m\u001b[0margs\u001b[0m\u001b[0;34m,\u001b[0m \u001b[0mdata\u001b[0m\u001b[0;34m=\u001b[0m\u001b[0;32mNone\u001b[0m\u001b[0;34m,\u001b[0m \u001b[0;34m**\u001b[0m\u001b[0mkwargs\u001b[0m\u001b[0;34m)\u001b[0m\u001b[0;34m:\u001b[0m\u001b[0;34m\u001b[0m\u001b[0;34m\u001b[0m\u001b[0m\n\u001b[1;32m   1564\u001b[0m         \u001b[0;32mif\u001b[0m \u001b[0mdata\u001b[0m \u001b[0;32mis\u001b[0m \u001b[0;32mNone\u001b[0m\u001b[0;34m:\u001b[0m\u001b[0;34m\u001b[0m\u001b[0;34m\u001b[0m\u001b[0m\n\u001b[0;32m-> 1565\u001b[0;31m             \u001b[0;32mreturn\u001b[0m \u001b[0mfunc\u001b[0m\u001b[0;34m(\u001b[0m\u001b[0max\u001b[0m\u001b[0;34m,\u001b[0m \u001b[0;34m*\u001b[0m\u001b[0mmap\u001b[0m\u001b[0;34m(\u001b[0m\u001b[0msanitize_sequence\u001b[0m\u001b[0;34m,\u001b[0m \u001b[0margs\u001b[0m\u001b[0;34m)\u001b[0m\u001b[0;34m,\u001b[0m \u001b[0;34m**\u001b[0m\u001b[0mkwargs\u001b[0m\u001b[0;34m)\u001b[0m\u001b[0;34m\u001b[0m\u001b[0;34m\u001b[0m\u001b[0m\n\u001b[0m\u001b[1;32m   1566\u001b[0m \u001b[0;34m\u001b[0m\u001b[0m\n\u001b[1;32m   1567\u001b[0m         \u001b[0mbound\u001b[0m \u001b[0;34m=\u001b[0m \u001b[0mnew_sig\u001b[0m\u001b[0;34m.\u001b[0m\u001b[0mbind\u001b[0m\u001b[0;34m(\u001b[0m\u001b[0max\u001b[0m\u001b[0;34m,\u001b[0m \u001b[0;34m*\u001b[0m\u001b[0margs\u001b[0m\u001b[0;34m,\u001b[0m \u001b[0;34m**\u001b[0m\u001b[0mkwargs\u001b[0m\u001b[0;34m)\u001b[0m\u001b[0;34m\u001b[0m\u001b[0;34m\u001b[0m\u001b[0m\n",
            "\u001b[0;32m/usr/local/lib/python3.6/dist-packages/matplotlib/cbook/deprecation.py\u001b[0m in \u001b[0;36mwrapper\u001b[0;34m(*args, **kwargs)\u001b[0m\n\u001b[1;32m    356\u001b[0m                 \u001b[0;34mf\"%(removal)s.  If any parameter follows {name!r}, they \"\u001b[0m\u001b[0;34m\u001b[0m\u001b[0;34m\u001b[0m\u001b[0m\n\u001b[1;32m    357\u001b[0m                 f\"should be pass as keyword, not positionally.\")\n\u001b[0;32m--> 358\u001b[0;31m         \u001b[0;32mreturn\u001b[0m \u001b[0mfunc\u001b[0m\u001b[0;34m(\u001b[0m\u001b[0;34m*\u001b[0m\u001b[0margs\u001b[0m\u001b[0;34m,\u001b[0m \u001b[0;34m**\u001b[0m\u001b[0mkwargs\u001b[0m\u001b[0;34m)\u001b[0m\u001b[0;34m\u001b[0m\u001b[0;34m\u001b[0m\u001b[0m\n\u001b[0m\u001b[1;32m    359\u001b[0m \u001b[0;34m\u001b[0m\u001b[0m\n\u001b[1;32m    360\u001b[0m     \u001b[0;32mreturn\u001b[0m \u001b[0mwrapper\u001b[0m\u001b[0;34m\u001b[0m\u001b[0;34m\u001b[0m\u001b[0m\n",
            "\u001b[0;32m/usr/local/lib/python3.6/dist-packages/matplotlib/cbook/deprecation.py\u001b[0m in \u001b[0;36mwrapper\u001b[0;34m(*args, **kwargs)\u001b[0m\n\u001b[1;32m    356\u001b[0m                 \u001b[0;34mf\"%(removal)s.  If any parameter follows {name!r}, they \"\u001b[0m\u001b[0;34m\u001b[0m\u001b[0;34m\u001b[0m\u001b[0m\n\u001b[1;32m    357\u001b[0m                 f\"should be pass as keyword, not positionally.\")\n\u001b[0;32m--> 358\u001b[0;31m         \u001b[0;32mreturn\u001b[0m \u001b[0mfunc\u001b[0m\u001b[0;34m(\u001b[0m\u001b[0;34m*\u001b[0m\u001b[0margs\u001b[0m\u001b[0;34m,\u001b[0m \u001b[0;34m**\u001b[0m\u001b[0mkwargs\u001b[0m\u001b[0;34m)\u001b[0m\u001b[0;34m\u001b[0m\u001b[0;34m\u001b[0m\u001b[0m\n\u001b[0m\u001b[1;32m    359\u001b[0m \u001b[0;34m\u001b[0m\u001b[0m\n\u001b[1;32m    360\u001b[0m     \u001b[0;32mreturn\u001b[0m \u001b[0mwrapper\u001b[0m\u001b[0;34m\u001b[0m\u001b[0;34m\u001b[0m\u001b[0m\n",
            "\u001b[0;32m/usr/local/lib/python3.6/dist-packages/matplotlib/axes/_axes.py\u001b[0m in \u001b[0;36mimshow\u001b[0;34m(self, X, cmap, norm, aspect, interpolation, alpha, vmin, vmax, origin, extent, shape, filternorm, filterrad, imlim, resample, url, **kwargs)\u001b[0m\n\u001b[1;32m   5613\u001b[0m                               resample=resample, **kwargs)\n\u001b[1;32m   5614\u001b[0m \u001b[0;34m\u001b[0m\u001b[0m\n\u001b[0;32m-> 5615\u001b[0;31m         \u001b[0mim\u001b[0m\u001b[0;34m.\u001b[0m\u001b[0mset_data\u001b[0m\u001b[0;34m(\u001b[0m\u001b[0mX\u001b[0m\u001b[0;34m)\u001b[0m\u001b[0;34m\u001b[0m\u001b[0;34m\u001b[0m\u001b[0m\n\u001b[0m\u001b[1;32m   5616\u001b[0m         \u001b[0mim\u001b[0m\u001b[0;34m.\u001b[0m\u001b[0mset_alpha\u001b[0m\u001b[0;34m(\u001b[0m\u001b[0malpha\u001b[0m\u001b[0;34m)\u001b[0m\u001b[0;34m\u001b[0m\u001b[0;34m\u001b[0m\u001b[0m\n\u001b[1;32m   5617\u001b[0m         \u001b[0;32mif\u001b[0m \u001b[0mim\u001b[0m\u001b[0;34m.\u001b[0m\u001b[0mget_clip_path\u001b[0m\u001b[0;34m(\u001b[0m\u001b[0;34m)\u001b[0m \u001b[0;32mis\u001b[0m \u001b[0;32mNone\u001b[0m\u001b[0;34m:\u001b[0m\u001b[0;34m\u001b[0m\u001b[0;34m\u001b[0m\u001b[0m\n",
            "\u001b[0;32m/usr/local/lib/python3.6/dist-packages/matplotlib/image.py\u001b[0m in \u001b[0;36mset_data\u001b[0;34m(self, A)\u001b[0m\n\u001b[1;32m    697\u001b[0m                 or self._A.ndim == 3 and self._A.shape[-1] in [3, 4]):\n\u001b[1;32m    698\u001b[0m             raise TypeError(\"Invalid shape {} for image data\"\n\u001b[0;32m--> 699\u001b[0;31m                             .format(self._A.shape))\n\u001b[0m\u001b[1;32m    700\u001b[0m \u001b[0;34m\u001b[0m\u001b[0m\n\u001b[1;32m    701\u001b[0m         \u001b[0;32mif\u001b[0m \u001b[0mself\u001b[0m\u001b[0;34m.\u001b[0m\u001b[0m_A\u001b[0m\u001b[0;34m.\u001b[0m\u001b[0mndim\u001b[0m \u001b[0;34m==\u001b[0m \u001b[0;36m3\u001b[0m\u001b[0;34m:\u001b[0m\u001b[0;34m\u001b[0m\u001b[0;34m\u001b[0m\u001b[0m\n",
            "\u001b[0;31mTypeError\u001b[0m: Invalid shape (3072,) for image data"
          ]
        },
        {
          "output_type": "display_data",
          "data": {
            "image/png": "[encoded data removed]",
            "text/plain": [
              "<Figure size 432x288 with 1 Axes>"
            ]
          },
          "metadata": {
            "tags": []
          }
        }
      ]
    },
    {
      "cell_type": "code",
      "metadata": {
        "id": "NO7f8do9b6qr"
      },
      "source": [
        "X_train_full = X_train_full/255\n",
        "X_test = X_test/255"
      ],
      "execution_count": null,
      "outputs": []
    },
    {
      "cell_type": "code",
      "metadata": {
        "id": "9gwOMvZydlKg",
        "colab": {
          "base_uri": "https://localhost:8080/",
          "height": 840
        },
        "outputId": "a29f4096-acec-4382-c29b-ee6265ec00df"
      },
      "source": [
        "X_train_full[0]"
      ],
      "execution_count": null,
      "outputs": [
        {
          "output_type": "execute_result",
          "data": {
            "text/plain": [
              "array([[[0.23137255, 0.24313725, 0.24705882],\n",
              "        [0.16862745, 0.18039216, 0.17647059],\n",
              "        [0.19607843, 0.18823529, 0.16862745],\n",
              "        ...,\n",
              "        [0.61960784, 0.51764706, 0.42352941],\n",
              "        [0.59607843, 0.49019608, 0.4       ],\n",
              "        [0.58039216, 0.48627451, 0.40392157]],\n",
              "\n",
              "       [[0.0627451 , 0.07843137, 0.07843137],\n",
              "        [0.        , 0.        , 0.        ],\n",
              "        [0.07058824, 0.03137255, 0.        ],\n",
              "        ...,\n",
              "        [0.48235294, 0.34509804, 0.21568627],\n",
              "        [0.46666667, 0.3254902 , 0.19607843],\n",
              "        [0.47843137, 0.34117647, 0.22352941]],\n",
              "\n",
              "       [[0.09803922, 0.09411765, 0.08235294],\n",
              "        [0.0627451 , 0.02745098, 0.        ],\n",
              "        [0.19215686, 0.10588235, 0.03137255],\n",
              "        ...,\n",
              "        [0.4627451 , 0.32941176, 0.19607843],\n",
              "        [0.47058824, 0.32941176, 0.19607843],\n",
              "        [0.42745098, 0.28627451, 0.16470588]],\n",
              "\n",
              "       ...,\n",
              "\n",
              "       [[0.81568627, 0.66666667, 0.37647059],\n",
              "        [0.78823529, 0.6       , 0.13333333],\n",
              "        [0.77647059, 0.63137255, 0.10196078],\n",
              "        ...,\n",
              "        [0.62745098, 0.52156863, 0.2745098 ],\n",
              "        [0.21960784, 0.12156863, 0.02745098],\n",
              "        [0.20784314, 0.13333333, 0.07843137]],\n",
              "\n",
              "       [[0.70588235, 0.54509804, 0.37647059],\n",
              "        [0.67843137, 0.48235294, 0.16470588],\n",
              "        [0.72941176, 0.56470588, 0.11764706],\n",
              "        ...,\n",
              "        [0.72156863, 0.58039216, 0.36862745],\n",
              "        [0.38039216, 0.24313725, 0.13333333],\n",
              "        [0.3254902 , 0.20784314, 0.13333333]],\n",
              "\n",
              "       [[0.69411765, 0.56470588, 0.45490196],\n",
              "        [0.65882353, 0.50588235, 0.36862745],\n",
              "        [0.70196078, 0.55686275, 0.34117647],\n",
              "        ...,\n",
              "        [0.84705882, 0.72156863, 0.54901961],\n",
              "        [0.59215686, 0.4627451 , 0.32941176],\n",
              "        [0.48235294, 0.36078431, 0.28235294]]])"
            ]
          },
          "metadata": {
            "tags": []
          },
          "execution_count": 9
        }
      ]
    },
    {
      "cell_type": "code",
      "metadata": {
        "id": "UzWEFJ1-dlMc",
        "colab": {
          "base_uri": "https://localhost:8080/",
          "height": 283
        },
        "outputId": "bf89bf41-9c35-487d-8a44-6a6964d8fb73"
      },
      "source": [
        "plt.imshow(X_train_full[0],cmap='binary')"
      ],
      "execution_count": null,
      "outputs": [
        {
          "output_type": "execute_result",
          "data": {
            "text/plain": [
              "<matplotlib.image.AxesImage at 0x7f48ad8b2cc0>"
            ]
          },
          "metadata": {
            "tags": []
          },
          "execution_count": 10
        },
        {
          "output_type": "display_data",
          "data": {
            "image/png": "[encoded data removed]",
            "text/plain": [
              "<Figure size 432x288 with 1 Axes>"
            ]
          },
          "metadata": {
            "tags": []
          }
        }
      ]
    },
    {
      "cell_type": "code",
      "metadata": {
        "id": "MHb0R4QydlQI",
        "colab": {
          "base_uri": "https://localhost:8080/",
          "height": 589
        },
        "outputId": "b45c0b5c-f08e-411f-a0d0-2edf73997375"
      },
      "source": [
        "index = 6\n",
        "plt.imshow(X_train_full[index],cmap='binary')\n",
        "plt.title(y_train_full[index])"
      ],
      "execution_count": null,
      "outputs": [
        {
          "output_type": "error",
          "ename": "TypeError",
          "evalue": "ignored",
          "traceback": [
            "\u001b[0;31m---------------------------------------------------------------------------\u001b[0m",
            "\u001b[0;31mTypeError\u001b[0m                                 Traceback (most recent call last)",
            "\u001b[0;32m<ipython-input-68-595a2038b51b>\u001b[0m in \u001b[0;36m<module>\u001b[0;34m()\u001b[0m\n\u001b[1;32m      1\u001b[0m \u001b[0mindex\u001b[0m \u001b[0;34m=\u001b[0m \u001b[0;36m6\u001b[0m\u001b[0;34m\u001b[0m\u001b[0;34m\u001b[0m\u001b[0m\n\u001b[0;32m----> 2\u001b[0;31m \u001b[0mplt\u001b[0m\u001b[0;34m.\u001b[0m\u001b[0mimshow\u001b[0m\u001b[0;34m(\u001b[0m\u001b[0mX_train_full\u001b[0m\u001b[0;34m[\u001b[0m\u001b[0mindex\u001b[0m\u001b[0;34m]\u001b[0m\u001b[0;34m,\u001b[0m\u001b[0mcmap\u001b[0m\u001b[0;34m=\u001b[0m\u001b[0;34m'binary'\u001b[0m\u001b[0;34m)\u001b[0m\u001b[0;34m\u001b[0m\u001b[0;34m\u001b[0m\u001b[0m\n\u001b[0m\u001b[1;32m      3\u001b[0m \u001b[0mplt\u001b[0m\u001b[0;34m.\u001b[0m\u001b[0mtitle\u001b[0m\u001b[0;34m(\u001b[0m\u001b[0my_train_full\u001b[0m\u001b[0;34m[\u001b[0m\u001b[0mindex\u001b[0m\u001b[0;34m]\u001b[0m\u001b[0;34m)\u001b[0m\u001b[0;34m\u001b[0m\u001b[0;34m\u001b[0m\u001b[0m\n",
            "\u001b[0;32m/usr/local/lib/python3.6/dist-packages/matplotlib/pyplot.py\u001b[0m in \u001b[0;36mimshow\u001b[0;34m(X, cmap, norm, aspect, interpolation, alpha, vmin, vmax, origin, extent, shape, filternorm, filterrad, imlim, resample, url, data, **kwargs)\u001b[0m\n\u001b[1;32m   2649\u001b[0m         \u001b[0mfilternorm\u001b[0m\u001b[0;34m=\u001b[0m\u001b[0mfilternorm\u001b[0m\u001b[0;34m,\u001b[0m \u001b[0mfilterrad\u001b[0m\u001b[0;34m=\u001b[0m\u001b[0mfilterrad\u001b[0m\u001b[0;34m,\u001b[0m \u001b[0mimlim\u001b[0m\u001b[0;34m=\u001b[0m\u001b[0mimlim\u001b[0m\u001b[0;34m,\u001b[0m\u001b[0;34m\u001b[0m\u001b[0;34m\u001b[0m\u001b[0m\n\u001b[1;32m   2650\u001b[0m         resample=resample, url=url, **({\"data\": data} if data is not\n\u001b[0;32m-> 2651\u001b[0;31m         None else {}), **kwargs)\n\u001b[0m\u001b[1;32m   2652\u001b[0m     \u001b[0msci\u001b[0m\u001b[0;34m(\u001b[0m\u001b[0m__ret\u001b[0m\u001b[0;34m)\u001b[0m\u001b[0;34m\u001b[0m\u001b[0;34m\u001b[0m\u001b[0m\n\u001b[1;32m   2653\u001b[0m     \u001b[0;32mreturn\u001b[0m \u001b[0m__ret\u001b[0m\u001b[0;34m\u001b[0m\u001b[0;34m\u001b[0m\u001b[0m\n",
            "\u001b[0;32m/usr/local/lib/python3.6/dist-packages/matplotlib/__init__.py\u001b[0m in \u001b[0;36minner\u001b[0;34m(ax, data, *args, **kwargs)\u001b[0m\n\u001b[1;32m   1563\u001b[0m     \u001b[0;32mdef\u001b[0m \u001b[0minner\u001b[0m\u001b[0;34m(\u001b[0m\u001b[0max\u001b[0m\u001b[0;34m,\u001b[0m \u001b[0;34m*\u001b[0m\u001b[0margs\u001b[0m\u001b[0;34m,\u001b[0m \u001b[0mdata\u001b[0m\u001b[0;34m=\u001b[0m\u001b[0;32mNone\u001b[0m\u001b[0;34m,\u001b[0m \u001b[0;34m**\u001b[0m\u001b[0mkwargs\u001b[0m\u001b[0;34m)\u001b[0m\u001b[0;34m:\u001b[0m\u001b[0;34m\u001b[0m\u001b[0;34m\u001b[0m\u001b[0m\n\u001b[1;32m   1564\u001b[0m         \u001b[0;32mif\u001b[0m \u001b[0mdata\u001b[0m \u001b[0;32mis\u001b[0m \u001b[0;32mNone\u001b[0m\u001b[0;34m:\u001b[0m\u001b[0;34m\u001b[0m\u001b[0;34m\u001b[0m\u001b[0m\n\u001b[0;32m-> 1565\u001b[0;31m             \u001b[0;32mreturn\u001b[0m \u001b[0mfunc\u001b[0m\u001b[0;34m(\u001b[0m\u001b[0max\u001b[0m\u001b[0;34m,\u001b[0m \u001b[0;34m*\u001b[0m\u001b[0mmap\u001b[0m\u001b[0;34m(\u001b[0m\u001b[0msanitize_sequence\u001b[0m\u001b[0;34m,\u001b[0m \u001b[0margs\u001b[0m\u001b[0;34m)\u001b[0m\u001b[0;34m,\u001b[0m \u001b[0;34m**\u001b[0m\u001b[0mkwargs\u001b[0m\u001b[0;34m)\u001b[0m\u001b[0;34m\u001b[0m\u001b[0;34m\u001b[0m\u001b[0m\n\u001b[0m\u001b[1;32m   1566\u001b[0m \u001b[0;34m\u001b[0m\u001b[0m\n\u001b[1;32m   1567\u001b[0m         \u001b[0mbound\u001b[0m \u001b[0;34m=\u001b[0m \u001b[0mnew_sig\u001b[0m\u001b[0;34m.\u001b[0m\u001b[0mbind\u001b[0m\u001b[0;34m(\u001b[0m\u001b[0max\u001b[0m\u001b[0;34m,\u001b[0m \u001b[0;34m*\u001b[0m\u001b[0margs\u001b[0m\u001b[0;34m,\u001b[0m \u001b[0;34m**\u001b[0m\u001b[0mkwargs\u001b[0m\u001b[0;34m)\u001b[0m\u001b[0;34m\u001b[0m\u001b[0;34m\u001b[0m\u001b[0m\n",
            "\u001b[0;32m/usr/local/lib/python3.6/dist-packages/matplotlib/cbook/deprecation.py\u001b[0m in \u001b[0;36mwrapper\u001b[0;34m(*args, **kwargs)\u001b[0m\n\u001b[1;32m    356\u001b[0m                 \u001b[0;34mf\"%(removal)s.  If any parameter follows {name!r}, they \"\u001b[0m\u001b[0;34m\u001b[0m\u001b[0;34m\u001b[0m\u001b[0m\n\u001b[1;32m    357\u001b[0m                 f\"should be pass as keyword, not positionally.\")\n\u001b[0;32m--> 358\u001b[0;31m         \u001b[0;32mreturn\u001b[0m \u001b[0mfunc\u001b[0m\u001b[0;34m(\u001b[0m\u001b[0;34m*\u001b[0m\u001b[0margs\u001b[0m\u001b[0;34m,\u001b[0m \u001b[0;34m**\u001b[0m\u001b[0mkwargs\u001b[0m\u001b[0;34m)\u001b[0m\u001b[0;34m\u001b[0m\u001b[0;34m\u001b[0m\u001b[0m\n\u001b[0m\u001b[1;32m    359\u001b[0m \u001b[0;34m\u001b[0m\u001b[0m\n\u001b[1;32m    360\u001b[0m     \u001b[0;32mreturn\u001b[0m \u001b[0mwrapper\u001b[0m\u001b[0;34m\u001b[0m\u001b[0;34m\u001b[0m\u001b[0m\n",
            "\u001b[0;32m/usr/local/lib/python3.6/dist-packages/matplotlib/cbook/deprecation.py\u001b[0m in \u001b[0;36mwrapper\u001b[0;34m(*args, **kwargs)\u001b[0m\n\u001b[1;32m    356\u001b[0m                 \u001b[0;34mf\"%(removal)s.  If any parameter follows {name!r}, they \"\u001b[0m\u001b[0;34m\u001b[0m\u001b[0;34m\u001b[0m\u001b[0m\n\u001b[1;32m    357\u001b[0m                 f\"should be pass as keyword, not positionally.\")\n\u001b[0;32m--> 358\u001b[0;31m         \u001b[0;32mreturn\u001b[0m \u001b[0mfunc\u001b[0m\u001b[0;34m(\u001b[0m\u001b[0;34m*\u001b[0m\u001b[0margs\u001b[0m\u001b[0;34m,\u001b[0m \u001b[0;34m**\u001b[0m\u001b[0mkwargs\u001b[0m\u001b[0;34m)\u001b[0m\u001b[0;34m\u001b[0m\u001b[0;34m\u001b[0m\u001b[0m\n\u001b[0m\u001b[1;32m    359\u001b[0m \u001b[0;34m\u001b[0m\u001b[0m\n\u001b[1;32m    360\u001b[0m     \u001b[0;32mreturn\u001b[0m \u001b[0mwrapper\u001b[0m\u001b[0;34m\u001b[0m\u001b[0;34m\u001b[0m\u001b[0m\n",
            "\u001b[0;32m/usr/local/lib/python3.6/dist-packages/matplotlib/axes/_axes.py\u001b[0m in \u001b[0;36mimshow\u001b[0;34m(self, X, cmap, norm, aspect, interpolation, alpha, vmin, vmax, origin, extent, shape, filternorm, filterrad, imlim, resample, url, **kwargs)\u001b[0m\n\u001b[1;32m   5613\u001b[0m                               resample=resample, **kwargs)\n\u001b[1;32m   5614\u001b[0m \u001b[0;34m\u001b[0m\u001b[0m\n\u001b[0;32m-> 5615\u001b[0;31m         \u001b[0mim\u001b[0m\u001b[0;34m.\u001b[0m\u001b[0mset_data\u001b[0m\u001b[0;34m(\u001b[0m\u001b[0mX\u001b[0m\u001b[0;34m)\u001b[0m\u001b[0;34m\u001b[0m\u001b[0;34m\u001b[0m\u001b[0m\n\u001b[0m\u001b[1;32m   5616\u001b[0m         \u001b[0mim\u001b[0m\u001b[0;34m.\u001b[0m\u001b[0mset_alpha\u001b[0m\u001b[0;34m(\u001b[0m\u001b[0malpha\u001b[0m\u001b[0;34m)\u001b[0m\u001b[0;34m\u001b[0m\u001b[0;34m\u001b[0m\u001b[0m\n\u001b[1;32m   5617\u001b[0m         \u001b[0;32mif\u001b[0m \u001b[0mim\u001b[0m\u001b[0;34m.\u001b[0m\u001b[0mget_clip_path\u001b[0m\u001b[0;34m(\u001b[0m\u001b[0;34m)\u001b[0m \u001b[0;32mis\u001b[0m \u001b[0;32mNone\u001b[0m\u001b[0;34m:\u001b[0m\u001b[0;34m\u001b[0m\u001b[0;34m\u001b[0m\u001b[0m\n",
            "\u001b[0;32m/usr/local/lib/python3.6/dist-packages/matplotlib/image.py\u001b[0m in \u001b[0;36mset_data\u001b[0;34m(self, A)\u001b[0m\n\u001b[1;32m    697\u001b[0m                 or self._A.ndim == 3 and self._A.shape[-1] in [3, 4]):\n\u001b[1;32m    698\u001b[0m             raise TypeError(\"Invalid shape {} for image data\"\n\u001b[0;32m--> 699\u001b[0;31m                             .format(self._A.shape))\n\u001b[0m\u001b[1;32m    700\u001b[0m \u001b[0;34m\u001b[0m\u001b[0m\n\u001b[1;32m    701\u001b[0m         \u001b[0;32mif\u001b[0m \u001b[0mself\u001b[0m\u001b[0;34m.\u001b[0m\u001b[0m_A\u001b[0m\u001b[0;34m.\u001b[0m\u001b[0mndim\u001b[0m \u001b[0;34m==\u001b[0m \u001b[0;36m3\u001b[0m\u001b[0;34m:\u001b[0m\u001b[0;34m\u001b[0m\u001b[0;34m\u001b[0m\u001b[0m\n",
            "\u001b[0;31mTypeError\u001b[0m: Invalid shape (3072,) for image data"
          ]
        },
        {
          "output_type": "display_data",
          "data": {
            "image/png": "[encoded data removed]",
            "text/plain": [
              "<Figure size 432x288 with 1 Axes>"
            ]
          },
          "metadata": {
            "tags": []
          }
        }
      ]
    },
    {
      "cell_type": "code",
      "metadata": {
        "id": "P7GTa3mpXOr4"
      },
      "source": [
        "classes = ['Airplane', 'Automobile', 'Bird', 'Cat', 'Deer', 'Dog',\n",
        "           'Frog', 'Horse', 'Ship', 'Truck']"
      ],
      "execution_count": null,
      "outputs": []
    },
    {
      "cell_type": "code",
      "metadata": {
        "id": "9m72LFsldlSf"
      },
      "source": [
        "X_train_full = X_train_full.reshape(-1,3072)\n",
        "X_test = X_test.reshape(-1,3072)"
      ],
      "execution_count": null,
      "outputs": []
    },
    {
      "cell_type": "markdown",
      "metadata": {
        "id": "Uso2ud7kfM9H"
      },
      "source": [
        "**Question 2**<br/>\n",
        "Train an ANN with 4 hidden layers of 500 neurons each. Use an early stopping callback with a patience of 10 epochs. Show the model summary and architecture plot. Give the accuracy. Make sure to train the network on validation data and reserve your test data for evaluation. Plot the accuracy vs epoch. \n",
        "\n",
        "*Hint:* you might find <br/>\n",
        "keras.layers.Flatten(input_shape=(32, 32, 3)) <br/>\n",
        "useful as it will flatten your input without you needing to reshape the data\n"
      ]
    },
    {
      "cell_type": "code",
      "metadata": {
        "id": "FuapH1apj8PS",
        "colab": {
          "base_uri": "https://localhost:8080/",
          "height": 34
        },
        "outputId": "0dc37a16-1402-41cf-82f6-ee8b95b1f52b"
      },
      "source": [
        "from sklearn.model_selection import train_test_split\n",
        "X_train_tr, X_train_v, y_train_tr, y_train_v = train_test_split(X_train_full,\n",
        "                                                                y_train_full,\n",
        "                                                                test_size=1/10,\n",
        "                                                                random_state=42)\n",
        "X_train_tr.shape"
      ],
      "execution_count": null,
      "outputs": [
        {
          "output_type": "execute_result",
          "data": {
            "text/plain": [
              "(45000, 3072)"
            ]
          },
          "metadata": {
            "tags": []
          },
          "execution_count": 13
        }
      ]
    },
    {
      "cell_type": "code",
      "metadata": {
        "id": "9BTnvN4SlxeJ",
        "colab": {
          "base_uri": "https://localhost:8080/",
          "height": 34
        },
        "outputId": "50324baa-8ae3-4ea5-9c22-4deef1245138"
      },
      "source": [
        "X_train_v.shape"
      ],
      "execution_count": null,
      "outputs": [
        {
          "output_type": "execute_result",
          "data": {
            "text/plain": [
              "(5000, 3072)"
            ]
          },
          "metadata": {
            "tags": []
          },
          "execution_count": 14
        }
      ]
    },
    {
      "cell_type": "code",
      "metadata": {
        "id": "AGxQWN87lxgC"
      },
      "source": [
        "model_1 = keras.models.Sequential()\n",
        "model_1.add(keras.layers.Dense(500,activation=\"relu\",input_shape=(3072,), \n",
        "                             name=\"1st_Hidden_Layer\"))\n",
        "model_1.add(keras.layers.Dense(500,activation=\"relu\",\n",
        "                             name=\"2nd_Hidden_Layer\"))\n",
        "model_1.add(keras.layers.Dense(500,activation=\"relu\",\n",
        "                             name=\"3rd_Hidden_Layer\"))\n",
        "model_1.add(keras.layers.Dense(500,activation=\"relu\",\n",
        "                             name=\"4th_Hidden_Layer\"))\n",
        "model_1.add(keras.layers.Dense(10,activation=\"softmax\",\n",
        "                             name=\"Output_Layer\"))"
      ],
      "execution_count": null,
      "outputs": []
    },
    {
      "cell_type": "code",
      "metadata": {
        "id": "qRCdM21qlxjh",
        "colab": {
          "base_uri": "https://localhost:8080/",
          "height": 319
        },
        "outputId": "b8222a28-4b0f-4ba6-e741-74b6cc885b6b"
      },
      "source": [
        "model_1.summary()"
      ],
      "execution_count": null,
      "outputs": [
        {
          "output_type": "stream",
          "text": [
            "Model: \"sequential\"\n",
            "_________________________________________________________________\n",
            "Layer (type)                 Output Shape              Param #   \n",
            "=================================================================\n",
            "1st_Hidden_Layer (Dense)     (None, 500)               1536500   \n",
            "_________________________________________________________________\n",
            "2nd_Hidden_Layer (Dense)     (None, 500)               250500    \n",
            "_________________________________________________________________\n",
            "3rd_Hidden_Layer (Dense)     (None, 500)               250500    \n",
            "_________________________________________________________________\n",
            "4th_Hidden_Layer (Dense)     (None, 500)               250500    \n",
            "_________________________________________________________________\n",
            "Output_Layer (Dense)         (None, 10)                5010      \n",
            "=================================================================\n",
            "Total params: 2,293,010\n",
            "Trainable params: 2,293,010\n",
            "Non-trainable params: 0\n",
            "_________________________________________________________________\n"
          ],
          "name": "stdout"
        }
      ]
    },
    {
      "cell_type": "code",
      "metadata": {
        "id": "1-GgZswRlxl3",
        "colab": {
          "base_uri": "https://localhost:8080/",
          "height": 644
        },
        "outputId": "f6f34a93-b6b4-4f59-c04c-93887b3186e3"
      },
      "source": [
        "keras.utils.plot_model(model_1,show_shapes=True)"
      ],
      "execution_count": null,
      "outputs": [
        {
          "output_type": "execute_result",
          "data": {
            "image/png": "[encoded data removed]",
            "text/plain": [
              "<IPython.core.display.Image object>"
            ]
          },
          "metadata": {
            "tags": []
          },
          "execution_count": 17
        }
      ]
    },
    {
      "cell_type": "code",
      "metadata": {
        "id": "g1JbXvamstY5"
      },
      "source": [
        "checkpoint_cb = keras.callbacks.ModelCheckpoint(\"temp_model.tf\", save_best_only=True)"
      ],
      "execution_count": null,
      "outputs": []
    },
    {
      "cell_type": "code",
      "metadata": {
        "id": "Q2Nf56eLstap",
        "colab": {
          "base_uri": "https://localhost:8080/",
          "height": 860
        },
        "outputId": "363068fa-f8d7-43ea-cdbc-4779dbbc9405"
      },
      "source": [
        "model_1.compile(loss=\"sparse_categorical_crossentropy\",optimizer=\"sgd\",\n",
        "              metrics=[\"accuracy\"])\n",
        "early_stopping_cb = keras.callbacks.EarlyStopping(patience=10, \n",
        "                                                  restore_best_weights=True,\n",
        "                                                  verbose=1)\n",
        "history_01 = model_1.fit(X_train_tr,y_train_tr, epochs=100, batch_size=32,\n",
        "                    validation_data=(X_train_v,y_train_v),\n",
        "                    callbacks=[checkpoint_cb, early_stopping_cb])"
      ],
      "execution_count": null,
      "outputs": [
        {
          "output_type": "stream",
          "text": [
            "Epoch 1/100\n",
            "1390/1407 [============================>.] - ETA: 0s - loss: 1.8971 - accuracy: 0.3172WARNING:tensorflow:From /usr/local/lib/python3.6/dist-packages/tensorflow/python/ops/resource_variable_ops.py:1817: calling BaseResourceVariable.__init__ (from tensorflow.python.ops.resource_variable_ops) with constraint is deprecated and will be removed in a future version.\n",
            "Instructions for updating:\n",
            "If using Keras pass *_constraint arguments to layers.\n",
            "INFO:tensorflow:Assets written to: temp_model.tf/assets\n",
            "1407/1407 [==============================] - 4s 3ms/step - loss: 1.8949 - accuracy: 0.3180 - val_loss: 1.9943 - val_accuracy: 0.3074\n",
            "Epoch 2/100\n",
            "1402/1407 [============================>.] - ETA: 0s - loss: 1.6866 - accuracy: 0.3978INFO:tensorflow:Assets written to: temp_model.tf/assets\n",
            "1407/1407 [==============================] - 4s 3ms/step - loss: 1.6863 - accuracy: 0.3978 - val_loss: 1.6756 - val_accuracy: 0.3942\n",
            "Epoch 3/100\n",
            "1407/1407 [==============================] - 4s 2ms/step - loss: 1.5976 - accuracy: 0.4311 - val_loss: 1.7233 - val_accuracy: 0.3816\n",
            "Epoch 4/100\n",
            "1407/1407 [==============================] - 4s 3ms/step - loss: 1.5339 - accuracy: 0.4543 - val_loss: 1.6770 - val_accuracy: 0.4022\n",
            "Epoch 5/100\n",
            "1406/1407 [============================>.] - ETA: 0s - loss: 1.4820 - accuracy: 0.4742INFO:tensorflow:Assets written to: temp_model.tf/assets\n",
            "1407/1407 [==============================] - 4s 3ms/step - loss: 1.4817 - accuracy: 0.4742 - val_loss: 1.5364 - val_accuracy: 0.4446\n",
            "Epoch 6/100\n",
            "1407/1407 [==============================] - 4s 3ms/step - loss: 1.4414 - accuracy: 0.4892 - val_loss: 1.5677 - val_accuracy: 0.4346\n",
            "Epoch 7/100\n",
            "1407/1407 [==============================] - 4s 3ms/step - loss: 1.4007 - accuracy: 0.5019 - val_loss: 1.5934 - val_accuracy: 0.4372\n",
            "Epoch 8/100\n",
            "1407/1407 [==============================] - 4s 2ms/step - loss: 1.3679 - accuracy: 0.5139 - val_loss: 1.6609 - val_accuracy: 0.4114\n",
            "Epoch 9/100\n",
            "1407/1407 [==============================] - 4s 3ms/step - loss: 1.3390 - accuracy: 0.5249 - val_loss: 1.5477 - val_accuracy: 0.4576\n",
            "Epoch 10/100\n",
            "1406/1407 [============================>.] - ETA: 0s - loss: 1.3089 - accuracy: 0.5368INFO:tensorflow:Assets written to: temp_model.tf/assets\n",
            "1407/1407 [==============================] - 4s 3ms/step - loss: 1.3087 - accuracy: 0.5368 - val_loss: 1.4163 - val_accuracy: 0.4928\n",
            "Epoch 11/100\n",
            "1407/1407 [==============================] - 4s 3ms/step - loss: 1.2810 - accuracy: 0.5418 - val_loss: 1.5173 - val_accuracy: 0.4522\n",
            "Epoch 12/100\n",
            "1407/1407 [==============================] - 3s 2ms/step - loss: 1.2507 - accuracy: 0.5573 - val_loss: 1.6448 - val_accuracy: 0.4380\n",
            "Epoch 13/100\n",
            "1407/1407 [==============================] - 4s 3ms/step - loss: 1.2245 - accuracy: 0.5651 - val_loss: 1.4931 - val_accuracy: 0.4672\n",
            "Epoch 14/100\n",
            "1407/1407 [==============================] - 4s 3ms/step - loss: 1.1976 - accuracy: 0.5732 - val_loss: 1.4931 - val_accuracy: 0.4702\n",
            "Epoch 15/100\n",
            "1407/1407 [==============================] - 3s 2ms/step - loss: 1.1718 - accuracy: 0.5822 - val_loss: 1.6285 - val_accuracy: 0.4450\n",
            "Epoch 16/100\n",
            "1407/1407 [==============================] - 4s 2ms/step - loss: 1.1462 - accuracy: 0.5924 - val_loss: 1.5057 - val_accuracy: 0.4616\n",
            "Epoch 17/100\n",
            "1407/1407 [==============================] - 4s 3ms/step - loss: 1.1234 - accuracy: 0.6022 - val_loss: 1.7495 - val_accuracy: 0.4156\n",
            "Epoch 18/100\n",
            "1407/1407 [==============================] - 4s 2ms/step - loss: 1.0933 - accuracy: 0.6115 - val_loss: 1.4837 - val_accuracy: 0.4850\n",
            "Epoch 19/100\n",
            "1407/1407 [==============================] - 3s 2ms/step - loss: 1.0724 - accuracy: 0.6198 - val_loss: 1.4556 - val_accuracy: 0.4854\n",
            "Epoch 20/100\n",
            "1394/1407 [============================>.] - ETA: 0s - loss: 1.0461 - accuracy: 0.6296Restoring model weights from the end of the best epoch.\n",
            "1407/1407 [==============================] - 3s 2ms/step - loss: 1.0468 - accuracy: 0.6294 - val_loss: 1.6461 - val_accuracy: 0.4466\n",
            "Epoch 00020: early stopping\n"
          ],
          "name": "stdout"
        }
      ]
    },
    {
      "cell_type": "code",
      "metadata": {
        "id": "MK1Wcql2steI",
        "colab": {
          "base_uri": "https://localhost:8080/",
          "height": 34
        },
        "outputId": "cafba41d-da30-4ea5-a7cc-7f219950fae8"
      },
      "source": [
        "history_01.params"
      ],
      "execution_count": null,
      "outputs": [
        {
          "output_type": "execute_result",
          "data": {
            "text/plain": [
              "{'epochs': 100, 'steps': 1407, 'verbose': 1}"
            ]
          },
          "metadata": {
            "tags": []
          },
          "execution_count": 20
        }
      ]
    },
    {
      "cell_type": "code",
      "metadata": {
        "id": "Favzl3u_tcrY",
        "colab": {
          "base_uri": "https://localhost:8080/",
          "height": 34
        },
        "outputId": "331562f7-ce25-4955-d347-2fb3395e9521"
      },
      "source": [
        "history_01.epoch"
      ],
      "execution_count": null,
      "outputs": [
        {
          "output_type": "execute_result",
          "data": {
            "text/plain": [
              "[0, 1, 2, 3, 4, 5, 6, 7, 8, 9, 10, 11, 12, 13, 14, 15, 16, 17, 18, 19]"
            ]
          },
          "metadata": {
            "tags": []
          },
          "execution_count": 21
        }
      ]
    },
    {
      "cell_type": "code",
      "metadata": {
        "id": "UPt1VgR0tcys",
        "colab": {
          "base_uri": "https://localhost:8080/",
          "height": 1000
        },
        "outputId": "d371205b-8ab5-40fd-86ca-6d41c4f89d73"
      },
      "source": [
        "history_01.history"
      ],
      "execution_count": null,
      "outputs": [
        {
          "output_type": "execute_result",
          "data": {
            "text/plain": [
              "{'accuracy': [0.31797778606414795,\n",
              "  0.39784443378448486,\n",
              "  0.43111109733581543,\n",
              "  0.4543333351612091,\n",
              "  0.4741555452346802,\n",
              "  0.48917776346206665,\n",
              "  0.5019333362579346,\n",
              "  0.5139333605766296,\n",
              "  0.5248888731002808,\n",
              "  0.5368444323539734,\n",
              "  0.5418444275856018,\n",
              "  0.5573111176490784,\n",
              "  0.5651333332061768,\n",
              "  0.5731555819511414,\n",
              "  0.5822222232818604,\n",
              "  0.5924444198608398,\n",
              "  0.602222204208374,\n",
              "  0.6114888787269592,\n",
              "  0.6198444366455078,\n",
              "  0.629444420337677],\n",
              " 'loss': [1.8949075937271118,\n",
              "  1.6862874031066895,\n",
              "  1.59759521484375,\n",
              "  1.5338512659072876,\n",
              "  1.4817196130752563,\n",
              "  1.4413903951644897,\n",
              "  1.400705099105835,\n",
              "  1.3678882122039795,\n",
              "  1.338964581489563,\n",
              "  1.3086631298065186,\n",
              "  1.280965805053711,\n",
              "  1.2507044076919556,\n",
              "  1.2245372533798218,\n",
              "  1.1976431608200073,\n",
              "  1.1717822551727295,\n",
              "  1.1461646556854248,\n",
              "  1.1233718395233154,\n",
              "  1.0932774543762207,\n",
              "  1.0723929405212402,\n",
              "  1.046810269355774],\n",
              " 'val_accuracy': [0.3073999881744385,\n",
              "  0.39419999718666077,\n",
              "  0.3815999925136566,\n",
              "  0.40220001339912415,\n",
              "  0.444599986076355,\n",
              "  0.43459999561309814,\n",
              "  0.43720000982284546,\n",
              "  0.4113999903202057,\n",
              "  0.4575999975204468,\n",
              "  0.4927999973297119,\n",
              "  0.4521999955177307,\n",
              "  0.43799999356269836,\n",
              "  0.46720001101493835,\n",
              "  0.4702000021934509,\n",
              "  0.4449999928474426,\n",
              "  0.46160000562667847,\n",
              "  0.4156000018119812,\n",
              "  0.48500001430511475,\n",
              "  0.48539999127388,\n",
              "  0.4465999901294708],\n",
              " 'val_loss': [1.994280219078064,\n",
              "  1.6755565404891968,\n",
              "  1.7232677936553955,\n",
              "  1.677020788192749,\n",
              "  1.5364478826522827,\n",
              "  1.5676873922348022,\n",
              "  1.593447208404541,\n",
              "  1.6609457731246948,\n",
              "  1.547729253768921,\n",
              "  1.4163122177124023,\n",
              "  1.5173312425613403,\n",
              "  1.6447592973709106,\n",
              "  1.493135929107666,\n",
              "  1.4931248426437378,\n",
              "  1.6285076141357422,\n",
              "  1.505713939666748,\n",
              "  1.7494693994522095,\n",
              "  1.483742356300354,\n",
              "  1.4556076526641846,\n",
              "  1.6461039781570435]}"
            ]
          },
          "metadata": {
            "tags": []
          },
          "execution_count": 22
        }
      ]
    },
    {
      "cell_type": "code",
      "metadata": {
        "id": "cs9-k9zJ-cze",
        "colab": {
          "base_uri": "https://localhost:8080/",
          "height": 445
        },
        "outputId": "a02605f1-dad7-417c-de62-b1143f4947b0"
      },
      "source": [
        "import pandas as pd\n",
        "pd.DataFrame(history_01.history).plot(figsize=(10,7))"
      ],
      "execution_count": null,
      "outputs": [
        {
          "output_type": "execute_result",
          "data": {
            "text/plain": [
              "<matplotlib.axes._subplots.AxesSubplot at 0x7f48a01d5fd0>"
            ]
          },
          "metadata": {
            "tags": []
          },
          "execution_count": 23
        },
        {
          "output_type": "display_data",
          "data": {
            "image/png": "[encoded data removed]",
            "text/plain": [
              "<Figure size 720x504 with 1 Axes>"
            ]
          },
          "metadata": {
            "tags": []
          }
        }
      ]
    },
    {
      "cell_type": "code",
      "metadata": {
        "id": "f11Kfc3mlxud",
        "colab": {
          "base_uri": "https://localhost:8080/",
          "height": 50
        },
        "outputId": "8684ed91-f888-4d6b-dbc4-1eefb444852e"
      },
      "source": [
        "model_1.evaluate(X_test,y_test)"
      ],
      "execution_count": null,
      "outputs": [
        {
          "output_type": "stream",
          "text": [
            "313/313 [==============================] - 1s 2ms/step - loss: 1.3847 - accuracy: 0.5078\n"
          ],
          "name": "stdout"
        },
        {
          "output_type": "execute_result",
          "data": {
            "text/plain": [
              "[1.3847264051437378, 0.5077999830245972]"
            ]
          },
          "metadata": {
            "tags": []
          },
          "execution_count": 24
        }
      ]
    },
    {
      "cell_type": "markdown",
      "metadata": {
        "id": "BAJBuRR6tJA7"
      },
      "source": [
        "**Question 3**<br/>\n",
        "Use RandomizedSearchCV to tune your hyperparameters (you will need to use the Subclassing API). Check the following parameters: <br/>\n",
        "number of hidden layers = [2, 4, 6, 8, 10] <br/>\n",
        "number of neurons = [100, 400, 700, 1000, 1300] <br/>\n",
        "learning rate = [1e-4, 3e-4, 1e-3, 3e-3, 1e-2, 3e-2] <br/>\n",
        "\n",
        "Which parameters performed best? Discuss."
      ]
    },
    {
      "cell_type": "code",
      "metadata": {
        "id": "gjFN6XfCtJiZ"
      },
      "source": [
        "import numpy as np\n",
        "keras.backend.clear_session()\n",
        "np.random.seed(42)\n",
        "tf.random.set_seed(42)"
      ],
      "execution_count": null,
      "outputs": []
    },
    {
      "cell_type": "code",
      "metadata": {
        "id": "G1LBm281ioDW"
      },
      "source": [
        "# Creating Subclass\n",
        "\n",
        "class new_model(keras.models.Model):  # in python superclass is in ()\n",
        "  def __init__(self, units=500, activation=\"relu\", n_hidden=4, **kwargs):  # constructor (cannot overload in python), set default with =\n",
        "    super().__init__(**kwargs)       # super() function will make the child class inherit all the methods and properties from its parent\n",
        "    self.hidden1 = keras.layers.Dense(units, activation=activation)\n",
        "    self.hidden2 = keras.layers.Dense(units, activation=activation)\n",
        "    self.output_main = keras.layers.Dense(10)\n",
        "    self.n_hidden = n_hidden\n",
        "  def call(self, inputs):  # keras uses for \"forward\" pass\n",
        "    x = inputs\n",
        "    x = self.hidden1(x)\n",
        "    for layer in range(self.n_hidden):\n",
        "      x = self.hidden2(x)\n",
        "    output_main = self.output_main(x)\n",
        "    return output_main"
      ],
      "execution_count": null,
      "outputs": []
    },
    {
      "cell_type": "code",
      "metadata": {
        "id": "8bqaTds_ioF5"
      },
      "source": [
        "# function to build neural net\n",
        "def build_model(n_hidden=1, n_neurons=500, learning_rate=3e-3): # setting up default values\n",
        "  model_cus = new_model(units=n_neurons,activation=\"relu\", n_hidden=n_hidden)\n",
        "  model_cus.compile(loss=\"sparse_categorical_crossentropy\",\n",
        "                optimizer=keras.optimizers.SGD(lr=learning_rate),\n",
        "                metrics=[\"accuracy\"])\n",
        "  return model_cus"
      ],
      "execution_count": null,
      "outputs": []
    },
    {
      "cell_type": "code",
      "metadata": {
        "id": "5NVTB6b1rFXw"
      },
      "source": [
        "keras_class = keras.wrappers.scikit_learn.KerasClassifier(build_model)"
      ],
      "execution_count": null,
      "outputs": []
    },
    {
      "cell_type": "code",
      "metadata": {
        "id": "hjFV5fWDrFaA",
        "colab": {
          "base_uri": "https://localhost:8080/",
          "height": 235
        },
        "outputId": "9f90c390-f8da-4cab-d853-fb28d82b6f84"
      },
      "source": [
        "keras_class.fit(X_train_tr,y_train_tr, epochs=10, \n",
        "              validation_data=(X_train_v,y_train_v),\n",
        "              callbacks=[keras.callbacks.EarlyStopping(patience=5)])"
      ],
      "execution_count": null,
      "outputs": [
        {
          "output_type": "stream",
          "text": [
            "Epoch 1/10\n",
            "1407/1407 [==============================] - 3s 2ms/step - loss: 6.3567 - accuracy: 0.0996 - val_loss: 6.8064 - val_accuracy: 0.1008\n",
            "Epoch 2/10\n",
            "1407/1407 [==============================] - 3s 2ms/step - loss: 6.7777 - accuracy: 0.0999 - val_loss: 6.8064 - val_accuracy: 0.1008\n",
            "Epoch 3/10\n",
            "1407/1407 [==============================] - 3s 2ms/step - loss: 6.7766 - accuracy: 0.0999 - val_loss: 6.8064 - val_accuracy: 0.1008\n",
            "Epoch 4/10\n",
            "1407/1407 [==============================] - 3s 2ms/step - loss: 6.7777 - accuracy: 0.0999 - val_loss: 6.8064 - val_accuracy: 0.1008\n",
            "Epoch 5/10\n",
            "1407/1407 [==============================] - 3s 2ms/step - loss: 6.7745 - accuracy: 0.0999 - val_loss: 6.8064 - val_accuracy: 0.1008\n",
            "Epoch 6/10\n",
            "1407/1407 [==============================] - 3s 2ms/step - loss: 6.7766 - accuracy: 0.0999 - val_loss: 6.8064 - val_accuracy: 0.1008\n"
          ],
          "name": "stdout"
        },
        {
          "output_type": "execute_result",
          "data": {
            "text/plain": [
              "<tensorflow.python.keras.callbacks.History at 0x7f48a014e1d0>"
            ]
          },
          "metadata": {
            "tags": []
          },
          "execution_count": 29
        }
      ]
    },
    {
      "cell_type": "code",
      "metadata": {
        "id": "ASt5QtOzrFdl"
      },
      "source": [
        "# RandomizedSearchCV parameters\n",
        "\n",
        "from sklearn.model_selection import RandomizedSearchCV\n",
        "param_distribs = {\n",
        "    \"n_hidden\": [2, 4, 6, 8, 10],\n",
        "    \"n_neurons\": [100, 400, 700, 1000, 1300],\n",
        "    \"learning_rate\": [1e-4, 3e-4, 1e-3, 3e-3, 1e-2, 3e-2]\n",
        "}"
      ],
      "execution_count": null,
      "outputs": []
    },
    {
      "cell_type": "code",
      "metadata": {
        "id": "4LhQG6jOIdcE",
        "colab": {
          "base_uri": "https://localhost:8080/",
          "height": 1000
        },
        "outputId": "c433434f-ba61-4feb-bdef-e4066921ed4b"
      },
      "source": [
        "rnd_search_cv = RandomizedSearchCV(keras_class, param_distribs, n_iter=10, cv=3, verbose=1)\n",
        "rnd_search_cv.fit(X_train_tr,y_train_tr, epochs=100, validation_data=(X_train_v,y_train_v),\n",
        "                  callbacks=[keras.callbacks.EarlyStopping(patience=10)])"
      ],
      "execution_count": null,
      "outputs": [
        {
          "output_type": "stream",
          "text": [
            "Fitting 3 folds for each of 10 candidates, totalling 30 fits\n"
          ],
          "name": "stdout"
        },
        {
          "output_type": "stream",
          "text": [
            "[Parallel(n_jobs=1)]: Using backend SequentialBackend with 1 concurrent workers.\n"
          ],
          "name": "stderr"
        },
        {
          "output_type": "stream",
          "text": [
            "Epoch 1/100\n",
            "938/938 [==============================] - 4s 4ms/step - loss: 10.5865 - accuracy: 0.0992 - val_loss: 9.5176 - val_accuracy: 0.1054\n",
            "Epoch 2/100\n",
            "938/938 [==============================] - 4s 4ms/step - loss: 9.6765 - accuracy: 0.0997 - val_loss: 9.5148 - val_accuracy: 0.1054\n",
            "Epoch 3/100\n",
            "938/938 [==============================] - 4s 4ms/step - loss: 9.6705 - accuracy: 0.0997 - val_loss: 9.5122 - val_accuracy: 0.1054\n",
            "Epoch 4/100\n",
            "938/938 [==============================] - 4s 4ms/step - loss: 9.7214 - accuracy: 0.0997 - val_loss: 9.5626 - val_accuracy: 0.1054\n",
            "Epoch 5/100\n",
            "938/938 [==============================] - 4s 4ms/step - loss: 9.7238 - accuracy: 0.0997 - val_loss: 9.5626 - val_accuracy: 0.1054\n",
            "Epoch 6/100\n",
            "938/938 [==============================] - 4s 4ms/step - loss: 9.7195 - accuracy: 0.0997 - val_loss: 9.5626 - val_accuracy: 0.1054\n",
            "Epoch 7/100\n",
            "938/938 [==============================] - 4s 4ms/step - loss: 9.7233 - accuracy: 0.0997 - val_loss: 9.5626 - val_accuracy: 0.1054\n",
            "Epoch 8/100\n",
            "938/938 [==============================] - 4s 4ms/step - loss: 9.7227 - accuracy: 0.0997 - val_loss: 9.5626 - val_accuracy: 0.1054\n",
            "Epoch 9/100\n",
            "938/938 [==============================] - 4s 4ms/step - loss: 9.7227 - accuracy: 0.0997 - val_loss: 9.5626 - val_accuracy: 0.1054\n",
            "Epoch 10/100\n",
            "938/938 [==============================] - 4s 4ms/step - loss: 9.7206 - accuracy: 0.0997 - val_loss: 9.5626 - val_accuracy: 0.1054\n",
            "Epoch 11/100\n",
            "938/938 [==============================] - 4s 4ms/step - loss: 9.7233 - accuracy: 0.0997 - val_loss: 9.5626 - val_accuracy: 0.1054\n",
            "Epoch 12/100\n",
            "938/938 [==============================] - 4s 4ms/step - loss: 9.7222 - accuracy: 0.0997 - val_loss: 9.5626 - val_accuracy: 0.1054\n",
            "Epoch 13/100\n",
            "938/938 [==============================] - 4s 4ms/step - loss: 9.7227 - accuracy: 0.0997 - val_loss: 9.5626 - val_accuracy: 0.1054\n",
            "469/469 [==============================] - 1s 2ms/step - loss: 9.5958 - accuracy: 0.0988\n",
            "Epoch 1/100\n",
            "938/938 [==============================] - 4s 4ms/step - loss: 6.3547 - accuracy: 0.1017 - val_loss: 5.1620 - val_accuracy: 0.1006\n",
            "Epoch 2/100\n",
            "938/938 [==============================] - 4s 4ms/step - loss: 5.1527 - accuracy: 0.1019 - val_loss: 5.1181 - val_accuracy: 0.1006\n",
            "Epoch 3/100\n",
            "938/938 [==============================] - 4s 4ms/step - loss: 5.0787 - accuracy: 0.1019 - val_loss: 5.1252 - val_accuracy: 0.1006\n",
            "Epoch 4/100\n",
            "938/938 [==============================] - 4s 4ms/step - loss: 4.0230 - accuracy: 0.0999 - val_loss: 3.7147 - val_accuracy: 0.0944\n",
            "Epoch 5/100\n",
            "938/938 [==============================] - 4s 4ms/step - loss: 3.7033 - accuracy: 0.1166 - val_loss: 3.7113 - val_accuracy: 0.1418\n",
            "Epoch 6/100\n",
            "938/938 [==============================] - 4s 4ms/step - loss: 3.6985 - accuracy: 0.1346 - val_loss: 3.7498 - val_accuracy: 0.1038\n",
            "Epoch 7/100\n",
            "938/938 [==============================] - 4s 4ms/step - loss: 2.6106 - accuracy: 0.1068 - val_loss: 2.3136 - val_accuracy: 0.1008\n",
            "Epoch 8/100\n",
            "938/938 [==============================] - 4s 4ms/step - loss: 2.3019 - accuracy: 0.1007 - val_loss: 2.3008 - val_accuracy: 0.1008\n",
            "Epoch 9/100\n",
            "938/938 [==============================] - 4s 4ms/step - loss: 2.3013 - accuracy: 0.1007 - val_loss: 2.3001 - val_accuracy: 0.1008\n",
            "Epoch 10/100\n",
            "938/938 [==============================] - 4s 4ms/step - loss: 2.2993 - accuracy: 0.1007 - val_loss: 2.2961 - val_accuracy: 0.1008\n",
            "Epoch 11/100\n",
            "938/938 [==============================] - 4s 4ms/step - loss: 2.2941 - accuracy: 0.1007 - val_loss: 2.2892 - val_accuracy: 0.1008\n",
            "Epoch 12/100\n",
            "938/938 [==============================] - 4s 4ms/step - loss: 2.2858 - accuracy: 0.1007 - val_loss: 2.2844 - val_accuracy: 0.1008\n",
            "Epoch 13/100\n",
            "938/938 [==============================] - 4s 4ms/step - loss: 2.2941 - accuracy: 0.1007 - val_loss: 2.3021 - val_accuracy: 0.1008\n",
            "Epoch 14/100\n",
            "938/938 [==============================] - 3s 4ms/step - loss: 2.3021 - accuracy: 0.1007 - val_loss: 2.3021 - val_accuracy: 0.1008\n",
            "Epoch 15/100\n",
            "938/938 [==============================] - 4s 4ms/step - loss: 2.3020 - accuracy: 0.1007 - val_loss: 2.3020 - val_accuracy: 0.1008\n",
            "Epoch 16/100\n",
            "938/938 [==============================] - 4s 4ms/step - loss: 2.3020 - accuracy: 0.1007 - val_loss: 2.3021 - val_accuracy: 0.1008\n",
            "Epoch 17/100\n",
            "938/938 [==============================] - 4s 4ms/step - loss: 2.3018 - accuracy: 0.1007 - val_loss: 2.3015 - val_accuracy: 0.1008\n",
            "Epoch 18/100\n",
            "938/938 [==============================] - 3s 4ms/step - loss: 2.3018 - accuracy: 0.1007 - val_loss: 2.3017 - val_accuracy: 0.1008\n",
            "Epoch 19/100\n",
            "938/938 [==============================] - 4s 4ms/step - loss: 2.3016 - accuracy: 0.1007 - val_loss: 2.3020 - val_accuracy: 0.1008\n",
            "Epoch 20/100\n",
            "938/938 [==============================] - 4s 4ms/step - loss: 2.3012 - accuracy: 0.1007 - val_loss: 2.3017 - val_accuracy: 0.1008\n",
            "Epoch 21/100\n",
            "938/938 [==============================] - 4s 4ms/step - loss: 2.3008 - accuracy: 0.1007 - val_loss: 2.3009 - val_accuracy: 0.1008\n",
            "Epoch 22/100\n",
            "938/938 [==============================] - 4s 4ms/step - loss: 2.2909 - accuracy: 0.1007 - val_loss: 2.2751 - val_accuracy: 0.1008\n",
            "Epoch 23/100\n",
            "938/938 [==============================] - 3s 4ms/step - loss: 2.2809 - accuracy: 0.1007 - val_loss: 2.2982 - val_accuracy: 0.1008\n",
            "Epoch 24/100\n",
            "938/938 [==============================] - 3s 4ms/step - loss: 2.2967 - accuracy: 0.1007 - val_loss: 2.3026 - val_accuracy: 0.1008\n",
            "Epoch 25/100\n",
            "938/938 [==============================] - 3s 4ms/step - loss: 2.3026 - accuracy: 0.1007 - val_loss: 2.3026 - val_accuracy: 0.1008\n",
            "Epoch 26/100\n",
            "938/938 [==============================] - 4s 4ms/step - loss: 2.3026 - accuracy: 0.1007 - val_loss: 2.3026 - val_accuracy: 0.1008\n",
            "Epoch 27/100\n",
            "938/938 [==============================] - 4s 4ms/step - loss: 2.3026 - accuracy: 0.1007 - val_loss: 2.3025 - val_accuracy: 0.1008\n",
            "Epoch 28/100\n",
            "938/938 [==============================] - 3s 4ms/step - loss: 2.2993 - accuracy: 0.1007 - val_loss: 2.2972 - val_accuracy: 0.1008\n",
            "Epoch 29/100\n",
            "938/938 [==============================] - 4s 4ms/step - loss: 2.2933 - accuracy: 0.1007 - val_loss: 2.3011 - val_accuracy: 0.1008\n",
            "Epoch 30/100\n",
            "938/938 [==============================] - 3s 4ms/step - loss: 2.2952 - accuracy: 0.1007 - val_loss: 2.3006 - val_accuracy: 0.1008\n",
            "Epoch 31/100\n",
            "938/938 [==============================] - 4s 4ms/step - loss: 2.2966 - accuracy: 0.1007 - val_loss: 2.2860 - val_accuracy: 0.1008\n",
            "Epoch 32/100\n",
            "938/938 [==============================] - 4s 4ms/step - loss: 2.2868 - accuracy: 0.1225 - val_loss: 2.2905 - val_accuracy: 0.1394\n",
            "469/469 [==============================] - 1s 2ms/step - loss: 2.2889 - accuracy: 0.1394\n",
            "Epoch 1/100\n",
            "938/938 [==============================] - 4s 4ms/step - loss: 2.5805 - accuracy: 0.1084 - val_loss: 2.3026 - val_accuracy: 0.1144\n",
            "Epoch 2/100\n",
            "938/938 [==============================] - 4s 4ms/step - loss: 2.3026 - accuracy: 0.1082 - val_loss: 2.3026 - val_accuracy: 0.1144\n",
            "Epoch 3/100\n",
            "938/938 [==============================] - 4s 4ms/step - loss: 2.3026 - accuracy: 0.1082 - val_loss: 2.3026 - val_accuracy: 0.1144\n",
            "Epoch 4/100\n",
            "938/938 [==============================] - 4s 4ms/step - loss: 2.3026 - accuracy: 0.1082 - val_loss: 2.3026 - val_accuracy: 0.1144\n",
            "Epoch 5/100\n",
            "938/938 [==============================] - 4s 4ms/step - loss: 2.3026 - accuracy: 0.1082 - val_loss: 2.3026 - val_accuracy: 0.1144\n",
            "Epoch 6/100\n",
            "938/938 [==============================] - 4s 4ms/step - loss: 2.3026 - accuracy: 0.1082 - val_loss: 2.3026 - val_accuracy: 0.1144\n",
            "Epoch 7/100\n",
            "938/938 [==============================] - 4s 4ms/step - loss: 2.3026 - accuracy: 0.1082 - val_loss: 2.3026 - val_accuracy: 0.1144\n",
            "Epoch 8/100\n",
            "938/938 [==============================] - 4s 4ms/step - loss: 2.3026 - accuracy: 0.1082 - val_loss: 2.3026 - val_accuracy: 0.1144\n",
            "Epoch 9/100\n",
            "938/938 [==============================] - 4s 4ms/step - loss: 2.3026 - accuracy: 0.1082 - val_loss: 2.3026 - val_accuracy: 0.1144\n",
            "Epoch 10/100\n",
            "938/938 [==============================] - 4s 4ms/step - loss: 2.3026 - accuracy: 0.1082 - val_loss: 2.3026 - val_accuracy: 0.1144\n",
            "Epoch 11/100\n",
            "938/938 [==============================] - 4s 4ms/step - loss: 2.3026 - accuracy: 0.1082 - val_loss: 2.3026 - val_accuracy: 0.1144\n",
            "469/469 [==============================] - 1s 2ms/step - loss: 2.3026 - accuracy: 0.1065\n",
            "Epoch 1/100\n",
            "938/938 [==============================] - 3s 4ms/step - loss: 2.3656 - accuracy: 0.1040 - val_loss: 2.3026 - val_accuracy: 0.1068\n",
            "Epoch 2/100\n",
            "938/938 [==============================] - 3s 4ms/step - loss: 2.3026 - accuracy: 0.1093 - val_loss: 2.3026 - val_accuracy: 0.1068\n",
            "Epoch 3/100\n",
            "938/938 [==============================] - 3s 4ms/step - loss: 2.3026 - accuracy: 0.1093 - val_loss: 2.3026 - val_accuracy: 0.1068\n",
            "Epoch 4/100\n",
            "938/938 [==============================] - 3s 4ms/step - loss: 2.3026 - accuracy: 0.1093 - val_loss: 2.3026 - val_accuracy: 0.1068\n",
            "Epoch 5/100\n",
            "938/938 [==============================] - 3s 3ms/step - loss: 2.3026 - accuracy: 0.1093 - val_loss: 2.3026 - val_accuracy: 0.1068\n",
            "Epoch 6/100\n",
            "938/938 [==============================] - 3s 4ms/step - loss: 2.3026 - accuracy: 0.1093 - val_loss: 2.3026 - val_accuracy: 0.1068\n",
            "Epoch 7/100\n",
            "938/938 [==============================] - 3s 3ms/step - loss: 2.3026 - accuracy: 0.1093 - val_loss: 2.3026 - val_accuracy: 0.1068\n",
            "Epoch 8/100\n",
            "938/938 [==============================] - 3s 3ms/step - loss: 2.3026 - accuracy: 0.1093 - val_loss: 2.3026 - val_accuracy: 0.1068\n",
            "Epoch 9/100\n",
            "938/938 [==============================] - 3s 3ms/step - loss: 2.3026 - accuracy: 0.1093 - val_loss: 2.3026 - val_accuracy: 0.1068\n",
            "Epoch 10/100\n",
            "938/938 [==============================] - 3s 3ms/step - loss: 2.3026 - accuracy: 0.1093 - val_loss: 2.3026 - val_accuracy: 0.1068\n",
            "Epoch 11/100\n",
            "938/938 [==============================] - 3s 3ms/step - loss: 2.3026 - accuracy: 0.1093 - val_loss: 2.3026 - val_accuracy: 0.1068\n",
            "469/469 [==============================] - 1s 2ms/step - loss: 2.3026 - accuracy: 0.1089\n",
            "Epoch 1/100\n",
            "938/938 [==============================] - 3s 4ms/step - loss: 4.9476 - accuracy: 0.1245 - val_loss: 5.1654 - val_accuracy: 0.0972\n",
            "Epoch 2/100\n",
            "938/938 [==============================] - 3s 3ms/step - loss: 4.9656 - accuracy: 0.1093 - val_loss: 4.9250 - val_accuracy: 0.0974\n",
            "Epoch 3/100\n",
            "938/938 [==============================] - 3s 3ms/step - loss: 4.7165 - accuracy: 0.1359 - val_loss: 4.8118 - val_accuracy: 0.0974\n",
            "Epoch 4/100\n",
            "938/938 [==============================] - 3s 3ms/step - loss: 3.4813 - accuracy: 0.1381 - val_loss: 3.3664 - val_accuracy: 0.1014\n",
            "Epoch 5/100\n",
            "938/938 [==============================] - 3s 3ms/step - loss: 3.4187 - accuracy: 0.1390 - val_loss: 3.2905 - val_accuracy: 0.2020\n",
            "Epoch 6/100\n",
            "938/938 [==============================] - 3s 3ms/step - loss: 3.6270 - accuracy: 0.1243 - val_loss: 3.6518 - val_accuracy: 0.1006\n",
            "Epoch 7/100\n",
            "938/938 [==============================] - 3s 3ms/step - loss: 3.5268 - accuracy: 0.1180 - val_loss: 3.3887 - val_accuracy: 0.1754\n",
            "Epoch 8/100\n",
            "938/938 [==============================] - 3s 3ms/step - loss: 3.4117 - accuracy: 0.1765 - val_loss: 3.8166 - val_accuracy: 0.0952\n",
            "Epoch 9/100\n",
            "938/938 [==============================] - 3s 3ms/step - loss: 3.6337 - accuracy: 0.1004 - val_loss: 3.5512 - val_accuracy: 0.0952\n",
            "Epoch 10/100\n",
            "938/938 [==============================] - 3s 3ms/step - loss: 3.4003 - accuracy: 0.1561 - val_loss: 3.3662 - val_accuracy: 0.2370\n",
            "Epoch 11/100\n",
            "938/938 [==============================] - 3s 3ms/step - loss: 3.5248 - accuracy: 0.1722 - val_loss: 3.6871 - val_accuracy: 0.0974\n",
            "Epoch 12/100\n",
            "938/938 [==============================] - 3s 3ms/step - loss: 3.5371 - accuracy: 0.1104 - val_loss: 3.3598 - val_accuracy: 0.2052\n",
            "Epoch 13/100\n",
            "938/938 [==============================] - 3s 3ms/step - loss: 3.4241 - accuracy: 0.1885 - val_loss: 3.4299 - val_accuracy: 0.1070\n",
            "Epoch 14/100\n",
            "938/938 [==============================] - 3s 3ms/step - loss: 6.5189 - accuracy: 0.1183 - val_loss: 8.0129 - val_accuracy: 0.0952\n",
            "Epoch 15/100\n",
            "938/938 [==============================] - 3s 3ms/step - loss: 7.9363 - accuracy: 0.1004 - val_loss: 7.9981 - val_accuracy: 0.0952\n",
            "469/469 [==============================] - 1s 2ms/step - loss: 7.8619 - accuracy: 0.1008\n",
            "Epoch 1/100\n",
            "938/938 [==============================] - 3s 4ms/step - loss: 2.3359 - accuracy: 0.1566 - val_loss: 2.1272 - val_accuracy: 0.2428\n",
            "Epoch 2/100\n",
            "938/938 [==============================] - 3s 3ms/step - loss: 2.7432 - accuracy: 0.1867 - val_loss: 3.8496 - val_accuracy: 0.0970\n",
            "Epoch 3/100\n",
            "938/938 [==============================] - 3s 3ms/step - loss: 3.7578 - accuracy: 0.1004 - val_loss: 3.8338 - val_accuracy: 0.0970\n",
            "Epoch 4/100\n",
            "938/938 [==============================] - 3s 3ms/step - loss: 3.7483 - accuracy: 0.1004 - val_loss: 3.8288 - val_accuracy: 0.0970\n",
            "Epoch 5/100\n",
            "938/938 [==============================] - 3s 3ms/step - loss: 3.7429 - accuracy: 0.1004 - val_loss: 3.8227 - val_accuracy: 0.0970\n",
            "Epoch 6/100\n",
            "938/938 [==============================] - 3s 3ms/step - loss: 3.7364 - accuracy: 0.1004 - val_loss: 3.8174 - val_accuracy: 0.0970\n",
            "Epoch 7/100\n",
            "938/938 [==============================] - 3s 3ms/step - loss: 3.7300 - accuracy: 0.1004 - val_loss: 3.8098 - val_accuracy: 0.0970\n",
            "Epoch 8/100\n",
            "938/938 [==============================] - 3s 3ms/step - loss: 3.7224 - accuracy: 0.1004 - val_loss: 3.8010 - val_accuracy: 0.0970\n",
            "Epoch 9/100\n",
            "938/938 [==============================] - 3s 3ms/step - loss: 3.7119 - accuracy: 0.1004 - val_loss: 3.7899 - val_accuracy: 0.0970\n",
            "Epoch 10/100\n",
            "938/938 [==============================] - 3s 4ms/step - loss: 3.6992 - accuracy: 0.1004 - val_loss: 3.7757 - val_accuracy: 0.0970\n",
            "Epoch 11/100\n",
            "938/938 [==============================] - 3s 3ms/step - loss: 3.6824 - accuracy: 0.1004 - val_loss: 3.7568 - val_accuracy: 0.0970\n",
            "469/469 [==============================] - 1s 2ms/step - loss: 3.6596 - accuracy: 0.1001\n",
            "Epoch 1/100\n",
            "938/938 [==============================] - 3s 4ms/step - loss: 6.7865 - accuracy: 0.0986 - val_loss: 6.8994 - val_accuracy: 0.1006\n",
            "Epoch 2/100\n",
            "938/938 [==============================] - 3s 3ms/step - loss: 6.7868 - accuracy: 0.0985 - val_loss: 6.8994 - val_accuracy: 0.1006\n",
            "Epoch 3/100\n",
            "938/938 [==============================] - 3s 3ms/step - loss: 6.7879 - accuracy: 0.0985 - val_loss: 6.8994 - val_accuracy: 0.1006\n",
            "Epoch 4/100\n",
            "938/938 [==============================] - 3s 3ms/step - loss: 6.7857 - accuracy: 0.0985 - val_loss: 6.8994 - val_accuracy: 0.1006\n",
            "Epoch 5/100\n",
            "938/938 [==============================] - 3s 3ms/step - loss: 6.7873 - accuracy: 0.0985 - val_loss: 6.8994 - val_accuracy: 0.1006\n",
            "Epoch 6/100\n",
            "938/938 [==============================] - 3s 3ms/step - loss: 6.7900 - accuracy: 0.0985 - val_loss: 6.8994 - val_accuracy: 0.1006\n",
            "Epoch 7/100\n",
            "938/938 [==============================] - 3s 3ms/step - loss: 6.7852 - accuracy: 0.0985 - val_loss: 6.8994 - val_accuracy: 0.1006\n",
            "Epoch 8/100\n",
            "938/938 [==============================] - 3s 3ms/step - loss: 6.7884 - accuracy: 0.0985 - val_loss: 6.8994 - val_accuracy: 0.1006\n",
            "Epoch 9/100\n",
            "938/938 [==============================] - 3s 3ms/step - loss: 6.7857 - accuracy: 0.0985 - val_loss: 6.8994 - val_accuracy: 0.1006\n",
            "Epoch 10/100\n",
            "938/938 [==============================] - 3s 3ms/step - loss: 6.7868 - accuracy: 0.0985 - val_loss: 6.8994 - val_accuracy: 0.1006\n",
            "Epoch 11/100\n",
            "938/938 [==============================] - 3s 3ms/step - loss: 6.7857 - accuracy: 0.0985 - val_loss: 6.8994 - val_accuracy: 0.1006\n",
            "469/469 [==============================] - 1s 2ms/step - loss: 6.7322 - accuracy: 0.1028\n",
            "Epoch 1/100\n",
            "938/938 [==============================] - 3s 4ms/step - loss: 8.1936 - accuracy: 0.0981 - val_loss: 8.2531 - val_accuracy: 0.0970\n",
            "Epoch 2/100\n",
            "938/938 [==============================] - 3s 3ms/step - loss: 8.2587 - accuracy: 0.0986 - val_loss: 8.2531 - val_accuracy: 0.0970\n",
            "Epoch 3/100\n",
            "938/938 [==============================] - 3s 3ms/step - loss: 8.2592 - accuracy: 0.0986 - val_loss: 8.2531 - val_accuracy: 0.0970\n",
            "Epoch 4/100\n",
            "938/938 [==============================] - 3s 4ms/step - loss: 8.2603 - accuracy: 0.0986 - val_loss: 8.2531 - val_accuracy: 0.0970\n",
            "Epoch 5/100\n",
            "938/938 [==============================] - 3s 4ms/step - loss: 8.2603 - accuracy: 0.0986 - val_loss: 8.2531 - val_accuracy: 0.0970\n",
            "Epoch 6/100\n",
            "938/938 [==============================] - 3s 3ms/step - loss: 8.2619 - accuracy: 0.0986 - val_loss: 8.2531 - val_accuracy: 0.0970\n",
            "Epoch 7/100\n",
            "938/938 [==============================] - 3s 3ms/step - loss: 8.2613 - accuracy: 0.0986 - val_loss: 8.2531 - val_accuracy: 0.0970\n",
            "Epoch 8/100\n",
            "938/938 [==============================] - 3s 3ms/step - loss: 8.2613 - accuracy: 0.0986 - val_loss: 8.2531 - val_accuracy: 0.0970\n",
            "Epoch 9/100\n",
            "938/938 [==============================] - 3s 3ms/step - loss: 8.2608 - accuracy: 0.0986 - val_loss: 8.2531 - val_accuracy: 0.0970\n",
            "Epoch 10/100\n",
            "938/938 [==============================] - 3s 3ms/step - loss: 8.2597 - accuracy: 0.0986 - val_loss: 8.2531 - val_accuracy: 0.0970\n",
            "Epoch 11/100\n",
            "938/938 [==============================] - 3s 4ms/step - loss: 8.2619 - accuracy: 0.0986 - val_loss: 8.2531 - val_accuracy: 0.0970\n",
            "469/469 [==============================] - 1s 2ms/step - loss: 8.1883 - accuracy: 0.1039\n",
            "Epoch 1/100\n",
            "938/938 [==============================] - 3s 4ms/step - loss: 6.8577 - accuracy: 0.1003 - val_loss: 6.8320 - val_accuracy: 0.0952\n",
            "Epoch 2/100\n",
            "938/938 [==============================] - 3s 3ms/step - loss: 6.8131 - accuracy: 0.1003 - val_loss: 6.8320 - val_accuracy: 0.0952\n",
            "Epoch 3/100\n",
            "938/938 [==============================] - 3s 3ms/step - loss: 6.8110 - accuracy: 0.1003 - val_loss: 6.8320 - val_accuracy: 0.0952\n",
            "Epoch 4/100\n",
            "938/938 [==============================] - 3s 3ms/step - loss: 6.8110 - accuracy: 0.1003 - val_loss: 6.8320 - val_accuracy: 0.0952\n",
            "Epoch 5/100\n",
            "938/938 [==============================] - 3s 3ms/step - loss: 6.8120 - accuracy: 0.1003 - val_loss: 6.8320 - val_accuracy: 0.0952\n",
            "Epoch 6/100\n",
            "938/938 [==============================] - 3s 3ms/step - loss: 6.8115 - accuracy: 0.1003 - val_loss: 6.8320 - val_accuracy: 0.0952\n",
            "Epoch 7/100\n",
            "938/938 [==============================] - 3s 3ms/step - loss: 6.8115 - accuracy: 0.1003 - val_loss: 6.8320 - val_accuracy: 0.0952\n",
            "Epoch 8/100\n",
            "938/938 [==============================] - 3s 3ms/step - loss: 6.8115 - accuracy: 0.1003 - val_loss: 6.8320 - val_accuracy: 0.0952\n",
            "Epoch 9/100\n",
            "938/938 [==============================] - 3s 3ms/step - loss: 6.8131 - accuracy: 0.1003 - val_loss: 6.8320 - val_accuracy: 0.0952\n",
            "Epoch 10/100\n",
            "938/938 [==============================] - 3s 3ms/step - loss: 6.8115 - accuracy: 0.1003 - val_loss: 6.8320 - val_accuracy: 0.0952\n",
            "Epoch 11/100\n",
            "938/938 [==============================] - 3s 3ms/step - loss: 6.8115 - accuracy: 0.1003 - val_loss: 6.8320 - val_accuracy: 0.0952\n",
            "469/469 [==============================] - 1s 2ms/step - loss: 6.7057 - accuracy: 0.1010\n",
            "Epoch 1/100\n",
            "938/938 [==============================] - 2s 3ms/step - loss: 2.3357 - accuracy: 0.1001 - val_loss: 2.3026 - val_accuracy: 0.1018\n",
            "Epoch 2/100\n",
            "938/938 [==============================] - 2s 3ms/step - loss: 2.3026 - accuracy: 0.1002 - val_loss: 2.3026 - val_accuracy: 0.1018\n",
            "Epoch 3/100\n",
            "938/938 [==============================] - 2s 3ms/step - loss: 2.3026 - accuracy: 0.1002 - val_loss: 2.3026 - val_accuracy: 0.1018\n",
            "Epoch 4/100\n",
            "938/938 [==============================] - 2s 3ms/step - loss: 2.3026 - accuracy: 0.1002 - val_loss: 2.3026 - val_accuracy: 0.1018\n",
            "Epoch 5/100\n",
            "938/938 [==============================] - 2s 3ms/step - loss: 2.3026 - accuracy: 0.1002 - val_loss: 2.3026 - val_accuracy: 0.1018\n",
            "Epoch 6/100\n",
            "938/938 [==============================] - 3s 3ms/step - loss: 2.3026 - accuracy: 0.1002 - val_loss: 2.3026 - val_accuracy: 0.1018\n",
            "Epoch 7/100\n",
            "938/938 [==============================] - 2s 3ms/step - loss: 2.3026 - accuracy: 0.1002 - val_loss: 2.3026 - val_accuracy: 0.1018\n",
            "Epoch 8/100\n",
            "938/938 [==============================] - 2s 3ms/step - loss: 2.3026 - accuracy: 0.1002 - val_loss: 2.3026 - val_accuracy: 0.1018\n",
            "Epoch 9/100\n",
            "938/938 [==============================] - 2s 3ms/step - loss: 2.3026 - accuracy: 0.1002 - val_loss: 2.3026 - val_accuracy: 0.1018\n",
            "Epoch 10/100\n",
            "938/938 [==============================] - 2s 3ms/step - loss: 2.3026 - accuracy: 0.1002 - val_loss: 2.3026 - val_accuracy: 0.1018\n",
            "Epoch 11/100\n",
            "938/938 [==============================] - 2s 3ms/step - loss: 2.3026 - accuracy: 0.1002 - val_loss: 2.3026 - val_accuracy: 0.1018\n",
            "469/469 [==============================] - 1s 2ms/step - loss: 2.3026 - accuracy: 0.0989\n",
            "Epoch 1/100\n",
            "938/938 [==============================] - 2s 3ms/step - loss: 2.7972 - accuracy: 0.1017 - val_loss: 2.2997 - val_accuracy: 0.1006\n",
            "Epoch 2/100\n",
            "938/938 [==============================] - 2s 3ms/step - loss: 2.2977 - accuracy: 0.1028 - val_loss: 2.3026 - val_accuracy: 0.0972\n",
            "Epoch 3/100\n",
            "938/938 [==============================] - 3s 3ms/step - loss: 2.3026 - accuracy: 0.1015 - val_loss: 2.3026 - val_accuracy: 0.0972\n",
            "Epoch 4/100\n",
            "938/938 [==============================] - 2s 3ms/step - loss: 2.3025 - accuracy: 0.1016 - val_loss: 2.3026 - val_accuracy: 0.0972\n",
            "Epoch 5/100\n",
            "938/938 [==============================] - 2s 3ms/step - loss: 2.3025 - accuracy: 0.1015 - val_loss: 2.3026 - val_accuracy: 0.0972\n",
            "Epoch 6/100\n",
            "938/938 [==============================] - 3s 3ms/step - loss: 2.3025 - accuracy: 0.1015 - val_loss: 2.3026 - val_accuracy: 0.0972\n",
            "Epoch 7/100\n",
            "938/938 [==============================] - 2s 3ms/step - loss: 2.3025 - accuracy: 0.1016 - val_loss: 2.3026 - val_accuracy: 0.0970\n",
            "Epoch 8/100\n",
            "938/938 [==============================] - 2s 3ms/step - loss: 2.3025 - accuracy: 0.1015 - val_loss: 2.3026 - val_accuracy: 0.0970\n",
            "Epoch 9/100\n",
            "938/938 [==============================] - 2s 3ms/step - loss: 2.3024 - accuracy: 0.1015 - val_loss: 2.3026 - val_accuracy: 0.0970\n",
            "Epoch 10/100\n",
            "938/938 [==============================] - 2s 3ms/step - loss: 2.3018 - accuracy: 0.1014 - val_loss: 2.2959 - val_accuracy: 0.0964\n",
            "Epoch 11/100\n",
            "938/938 [==============================] - 2s 3ms/step - loss: 2.3015 - accuracy: 0.1017 - val_loss: 2.3026 - val_accuracy: 0.0984\n",
            "Epoch 12/100\n",
            "938/938 [==============================] - 2s 3ms/step - loss: 2.3025 - accuracy: 0.1021 - val_loss: 2.3027 - val_accuracy: 0.0984\n",
            "Epoch 13/100\n",
            "938/938 [==============================] - 2s 3ms/step - loss: 2.3025 - accuracy: 0.1020 - val_loss: 2.3026 - val_accuracy: 0.0984\n",
            "Epoch 14/100\n",
            "938/938 [==============================] - 3s 3ms/step - loss: 2.3025 - accuracy: 0.1021 - val_loss: 2.3026 - val_accuracy: 0.0984\n",
            "Epoch 15/100\n",
            "938/938 [==============================] - 2s 3ms/step - loss: 2.3025 - accuracy: 0.1021 - val_loss: 2.3026 - val_accuracy: 0.0984\n",
            "Epoch 16/100\n",
            "938/938 [==============================] - 2s 3ms/step - loss: 2.3025 - accuracy: 0.1021 - val_loss: 2.3027 - val_accuracy: 0.0984\n",
            "Epoch 17/100\n",
            "938/938 [==============================] - 2s 3ms/step - loss: 2.3025 - accuracy: 0.1021 - val_loss: 2.3026 - val_accuracy: 0.0984\n",
            "Epoch 18/100\n",
            "938/938 [==============================] - 3s 3ms/step - loss: 2.3025 - accuracy: 0.1021 - val_loss: 2.3026 - val_accuracy: 0.0984\n",
            "Epoch 19/100\n",
            "938/938 [==============================] - 3s 3ms/step - loss: 2.3025 - accuracy: 0.1021 - val_loss: 2.3026 - val_accuracy: 0.0984\n",
            "Epoch 20/100\n",
            "938/938 [==============================] - 3s 3ms/step - loss: 2.3025 - accuracy: 0.1021 - val_loss: 2.3026 - val_accuracy: 0.0984\n",
            "469/469 [==============================] - 1s 2ms/step - loss: 2.3026 - accuracy: 0.1020\n",
            "Epoch 1/100\n",
            "938/938 [==============================] - 3s 3ms/step - loss: 8.9949 - accuracy: 0.1005 - val_loss: 8.1568 - val_accuracy: 0.0972\n",
            "Epoch 2/100\n",
            "938/938 [==============================] - 2s 3ms/step - loss: 8.2737 - accuracy: 0.0990 - val_loss: 8.1568 - val_accuracy: 0.0972\n",
            "Epoch 3/100\n",
            "938/938 [==============================] - 2s 3ms/step - loss: 8.2731 - accuracy: 0.0990 - val_loss: 8.1568 - val_accuracy: 0.0972\n",
            "Epoch 4/100\n",
            "938/938 [==============================] - 2s 3ms/step - loss: 8.2758 - accuracy: 0.0990 - val_loss: 8.1568 - val_accuracy: 0.0972\n",
            "Epoch 5/100\n",
            "938/938 [==============================] - 2s 3ms/step - loss: 8.2758 - accuracy: 0.0990 - val_loss: 8.1568 - val_accuracy: 0.0972\n",
            "Epoch 6/100\n",
            "938/938 [==============================] - 2s 3ms/step - loss: 8.2742 - accuracy: 0.0990 - val_loss: 8.1568 - val_accuracy: 0.0972\n",
            "Epoch 7/100\n",
            "938/938 [==============================] - 2s 3ms/step - loss: 8.2758 - accuracy: 0.0990 - val_loss: 8.1568 - val_accuracy: 0.0972\n",
            "Epoch 8/100\n",
            "938/938 [==============================] - 2s 3ms/step - loss: 8.2753 - accuracy: 0.0990 - val_loss: 8.1568 - val_accuracy: 0.0972\n",
            "Epoch 9/100\n",
            "938/938 [==============================] - 2s 3ms/step - loss: 8.2758 - accuracy: 0.0990 - val_loss: 8.1568 - val_accuracy: 0.0972\n",
            "Epoch 10/100\n",
            "938/938 [==============================] - 2s 3ms/step - loss: 8.2764 - accuracy: 0.0990 - val_loss: 8.1568 - val_accuracy: 0.0972\n",
            "Epoch 11/100\n",
            "938/938 [==============================] - 2s 3ms/step - loss: 8.2747 - accuracy: 0.0990 - val_loss: 8.1568 - val_accuracy: 0.0972\n",
            "Epoch 12/100\n",
            "938/938 [==============================] - 2s 3ms/step - loss: 8.2774 - accuracy: 0.0990 - val_loss: 8.1568 - val_accuracy: 0.0972\n",
            "Epoch 13/100\n",
            "938/938 [==============================] - 2s 3ms/step - loss: 8.2753 - accuracy: 0.0990 - val_loss: 8.1568 - val_accuracy: 0.0972\n",
            "Epoch 14/100\n",
            "938/938 [==============================] - 3s 3ms/step - loss: 8.2763 - accuracy: 0.0990 - val_loss: 8.1568 - val_accuracy: 0.0972\n",
            "Epoch 15/100\n",
            "938/938 [==============================] - 3s 3ms/step - loss: 8.2737 - accuracy: 0.0990 - val_loss: 8.1568 - val_accuracy: 0.0972\n",
            "Epoch 16/100\n",
            "938/938 [==============================] - 2s 3ms/step - loss: 8.2753 - accuracy: 0.0990 - val_loss: 8.1568 - val_accuracy: 0.0972\n",
            "Epoch 17/100\n",
            "938/938 [==============================] - 2s 3ms/step - loss: 8.2742 - accuracy: 0.0990 - val_loss: 8.1568 - val_accuracy: 0.0972\n",
            "Epoch 18/100\n",
            "938/938 [==============================] - 2s 3ms/step - loss: 8.2747 - accuracy: 0.0990 - val_loss: 8.1568 - val_accuracy: 0.0972\n",
            "Epoch 19/100\n",
            "938/938 [==============================] - 2s 3ms/step - loss: 8.2758 - accuracy: 0.0990 - val_loss: 8.1568 - val_accuracy: 0.0972\n",
            "Epoch 20/100\n",
            "938/938 [==============================] - 2s 3ms/step - loss: 8.2753 - accuracy: 0.0990 - val_loss: 8.1568 - val_accuracy: 0.0972\n",
            "Epoch 21/100\n",
            "938/938 [==============================] - 2s 3ms/step - loss: 8.2753 - accuracy: 0.0990 - val_loss: 8.1568 - val_accuracy: 0.0972\n",
            "Epoch 22/100\n",
            "938/938 [==============================] - 2s 3ms/step - loss: 8.2753 - accuracy: 0.0990 - val_loss: 8.1568 - val_accuracy: 0.0972\n",
            "Epoch 23/100\n",
            "938/938 [==============================] - 2s 3ms/step - loss: 8.2753 - accuracy: 0.0990 - val_loss: 8.1568 - val_accuracy: 0.0972\n",
            "Epoch 24/100\n",
            "938/938 [==============================] - 2s 3ms/step - loss: 8.2753 - accuracy: 0.0990 - val_loss: 8.1568 - val_accuracy: 0.0972\n",
            "Epoch 25/100\n",
            "938/938 [==============================] - 2s 3ms/step - loss: 8.2763 - accuracy: 0.0990 - val_loss: 8.1568 - val_accuracy: 0.0972\n",
            "Epoch 26/100\n",
            "938/938 [==============================] - 2s 3ms/step - loss: 8.2747 - accuracy: 0.0990 - val_loss: 8.1568 - val_accuracy: 0.0972\n",
            "Epoch 27/100\n",
            "938/938 [==============================] - 2s 3ms/step - loss: 8.2726 - accuracy: 0.0990 - val_loss: 8.1568 - val_accuracy: 0.0972\n",
            "Epoch 28/100\n",
            "938/938 [==============================] - 3s 3ms/step - loss: 8.2742 - accuracy: 0.0990 - val_loss: 8.1568 - val_accuracy: 0.0972\n",
            "Epoch 29/100\n",
            "938/938 [==============================] - 2s 3ms/step - loss: 8.2747 - accuracy: 0.0990 - val_loss: 8.1568 - val_accuracy: 0.0972\n",
            "Epoch 30/100\n",
            "938/938 [==============================] - 2s 3ms/step - loss: 8.2736 - accuracy: 0.0990 - val_loss: 8.1568 - val_accuracy: 0.0972\n",
            "Epoch 31/100\n",
            "938/938 [==============================] - 3s 3ms/step - loss: 8.2747 - accuracy: 0.0990 - val_loss: 8.1568 - val_accuracy: 0.0972\n",
            "Epoch 32/100\n",
            "938/938 [==============================] - 2s 3ms/step - loss: 8.2753 - accuracy: 0.0990 - val_loss: 8.1568 - val_accuracy: 0.0972\n",
            "Epoch 33/100\n",
            "938/938 [==============================] - 2s 3ms/step - loss: 8.2731 - accuracy: 0.0990 - val_loss: 8.1568 - val_accuracy: 0.0972\n",
            "Epoch 34/100\n",
            "938/938 [==============================] - 2s 3ms/step - loss: 8.2736 - accuracy: 0.0990 - val_loss: 8.1568 - val_accuracy: 0.0972\n",
            "Epoch 35/100\n",
            "938/938 [==============================] - 2s 3ms/step - loss: 8.2747 - accuracy: 0.0990 - val_loss: 8.1568 - val_accuracy: 0.0972\n",
            "Epoch 36/100\n",
            "938/938 [==============================] - 2s 3ms/step - loss: 8.2747 - accuracy: 0.0990 - val_loss: 8.1568 - val_accuracy: 0.0972\n",
            "Epoch 37/100\n",
            "938/938 [==============================] - 2s 3ms/step - loss: 9.1084 - accuracy: 0.0990 - val_loss: 9.6171 - val_accuracy: 0.0972\n",
            "Epoch 38/100\n",
            "938/938 [==============================] - 2s 3ms/step - loss: 9.6803 - accuracy: 0.0990 - val_loss: 9.6171 - val_accuracy: 0.0972\n",
            "Epoch 39/100\n",
            "938/938 [==============================] - 3s 3ms/step - loss: 9.6787 - accuracy: 0.0990 - val_loss: 9.6171 - val_accuracy: 0.0972\n",
            "Epoch 40/100\n",
            "938/938 [==============================] - 2s 3ms/step - loss: 9.6787 - accuracy: 0.0990 - val_loss: 9.6171 - val_accuracy: 0.0972\n",
            "Epoch 41/100\n",
            "938/938 [==============================] - 2s 3ms/step - loss: 9.6776 - accuracy: 0.0990 - val_loss: 9.6171 - val_accuracy: 0.0972\n",
            "Epoch 42/100\n",
            "938/938 [==============================] - 2s 3ms/step - loss: 9.6770 - accuracy: 0.0990 - val_loss: 9.6171 - val_accuracy: 0.0972\n",
            "Epoch 43/100\n",
            "938/938 [==============================] - 2s 3ms/step - loss: 9.6776 - accuracy: 0.0990 - val_loss: 9.6170 - val_accuracy: 0.0972\n",
            "469/469 [==============================] - 1s 2ms/step - loss: 9.6673 - accuracy: 0.1029\n",
            "Epoch 1/100\n",
            "938/938 [==============================] - 2s 2ms/step - loss: 8.9300 - accuracy: 0.0989 - val_loss: 8.3173 - val_accuracy: 0.1008\n",
            "Epoch 2/100\n",
            "938/938 [==============================] - 2s 2ms/step - loss: 8.2447 - accuracy: 0.0989 - val_loss: 8.3172 - val_accuracy: 0.1008\n",
            "Epoch 3/100\n",
            "938/938 [==============================] - 2s 2ms/step - loss: 8.2425 - accuracy: 0.0989 - val_loss: 8.3172 - val_accuracy: 0.1008\n",
            "Epoch 4/100\n",
            "938/938 [==============================] - 2s 2ms/step - loss: 8.2436 - accuracy: 0.0989 - val_loss: 8.3172 - val_accuracy: 0.1008\n",
            "Epoch 5/100\n",
            "938/938 [==============================] - 2s 2ms/step - loss: 8.2419 - accuracy: 0.0989 - val_loss: 8.3172 - val_accuracy: 0.1008\n",
            "Epoch 6/100\n",
            "938/938 [==============================] - 2s 2ms/step - loss: 8.2441 - accuracy: 0.0989 - val_loss: 8.3172 - val_accuracy: 0.1008\n",
            "Epoch 7/100\n",
            "938/938 [==============================] - 2s 2ms/step - loss: 8.2441 - accuracy: 0.0989 - val_loss: 8.3172 - val_accuracy: 0.1008\n",
            "Epoch 8/100\n",
            "938/938 [==============================] - 2s 2ms/step - loss: 8.2424 - accuracy: 0.0989 - val_loss: 8.3171 - val_accuracy: 0.1008\n",
            "Epoch 9/100\n",
            "938/938 [==============================] - 2s 2ms/step - loss: 9.4120 - accuracy: 0.0989 - val_loss: 9.7390 - val_accuracy: 0.1008\n",
            "Epoch 10/100\n",
            "938/938 [==============================] - 2s 2ms/step - loss: 9.6480 - accuracy: 0.0989 - val_loss: 9.7390 - val_accuracy: 0.1008\n",
            "Epoch 11/100\n",
            "938/938 [==============================] - 2s 2ms/step - loss: 9.6496 - accuracy: 0.0989 - val_loss: 9.7390 - val_accuracy: 0.1008\n",
            "Epoch 12/100\n",
            "938/938 [==============================] - 2s 2ms/step - loss: 9.6507 - accuracy: 0.0989 - val_loss: 9.7390 - val_accuracy: 0.1008\n",
            "Epoch 13/100\n",
            "938/938 [==============================] - 2s 2ms/step - loss: 9.6496 - accuracy: 0.0989 - val_loss: 9.7390 - val_accuracy: 0.1008\n",
            "Epoch 14/100\n",
            "938/938 [==============================] - 2s 2ms/step - loss: 9.6501 - accuracy: 0.0989 - val_loss: 9.7390 - val_accuracy: 0.1008\n",
            "Epoch 15/100\n",
            "938/938 [==============================] - 2s 2ms/step - loss: 9.6503 - accuracy: 0.0989 - val_loss: 9.7391 - val_accuracy: 0.1008\n",
            "Epoch 16/100\n",
            "938/938 [==============================] - 2s 2ms/step - loss: 9.6502 - accuracy: 0.0989 - val_loss: 9.7391 - val_accuracy: 0.1008\n",
            "Epoch 17/100\n",
            "938/938 [==============================] - 2s 2ms/step - loss: 9.6497 - accuracy: 0.0989 - val_loss: 9.7391 - val_accuracy: 0.1008\n",
            "Epoch 18/100\n",
            "938/938 [==============================] - 2s 2ms/step - loss: 9.6502 - accuracy: 0.0989 - val_loss: 9.7391 - val_accuracy: 0.1008\n",
            "469/469 [==============================] - 1s 2ms/step - loss: 9.6781 - accuracy: 0.1019\n",
            "Epoch 1/100\n",
            "938/938 [==============================] - 2s 3ms/step - loss: 5.3417 - accuracy: 0.0982 - val_loss: 5.3351 - val_accuracy: 0.1038\n",
            "Epoch 2/100\n",
            "938/938 [==============================] - 2s 2ms/step - loss: 5.0193 - accuracy: 0.0997 - val_loss: 3.7955 - val_accuracy: 0.1072\n",
            "Epoch 3/100\n",
            "938/938 [==============================] - 2s 2ms/step - loss: 5.1388 - accuracy: 0.0986 - val_loss: 5.2845 - val_accuracy: 0.0974\n",
            "Epoch 4/100\n",
            "938/938 [==============================] - 2s 3ms/step - loss: 5.3148 - accuracy: 0.0987 - val_loss: 5.2845 - val_accuracy: 0.0974\n",
            "Epoch 5/100\n",
            "938/938 [==============================] - 2s 2ms/step - loss: 5.3131 - accuracy: 0.0987 - val_loss: 5.2845 - val_accuracy: 0.0974\n",
            "Epoch 6/100\n",
            "938/938 [==============================] - 2s 2ms/step - loss: 5.3153 - accuracy: 0.0987 - val_loss: 5.2845 - val_accuracy: 0.0974\n",
            "Epoch 7/100\n",
            "938/938 [==============================] - 2s 2ms/step - loss: 5.3148 - accuracy: 0.0987 - val_loss: 5.2845 - val_accuracy: 0.0974\n",
            "Epoch 8/100\n",
            "938/938 [==============================] - 2s 2ms/step - loss: 5.3148 - accuracy: 0.0987 - val_loss: 5.2845 - val_accuracy: 0.0974\n",
            "Epoch 9/100\n",
            "938/938 [==============================] - 2s 2ms/step - loss: 5.3153 - accuracy: 0.0987 - val_loss: 5.2845 - val_accuracy: 0.0974\n",
            "Epoch 10/100\n",
            "938/938 [==============================] - 2s 2ms/step - loss: 5.3142 - accuracy: 0.0987 - val_loss: 5.2845 - val_accuracy: 0.0974\n",
            "Epoch 11/100\n",
            "938/938 [==============================] - 2s 2ms/step - loss: 5.3148 - accuracy: 0.0987 - val_loss: 5.2845 - val_accuracy: 0.0974\n",
            "Epoch 12/100\n",
            "938/938 [==============================] - 2s 2ms/step - loss: 5.3153 - accuracy: 0.0987 - val_loss: 5.2845 - val_accuracy: 0.0974\n",
            "469/469 [==============================] - 1s 2ms/step - loss: 5.2899 - accuracy: 0.1035\n",
            "Epoch 1/100\n",
            "938/938 [==============================] - 2s 3ms/step - loss: 9.9495 - accuracy: 0.1002 - val_loss: 10.9121 - val_accuracy: 0.1008\n",
            "Epoch 2/100\n",
            "938/938 [==============================] - 2s 2ms/step - loss: 11.0849 - accuracy: 0.1002 - val_loss: 10.9147 - val_accuracy: 0.1008\n",
            "Epoch 3/100\n",
            "938/938 [==============================] - 2s 2ms/step - loss: 11.0874 - accuracy: 0.1002 - val_loss: 10.9147 - val_accuracy: 0.1008\n",
            "Epoch 4/100\n",
            "938/938 [==============================] - 2s 2ms/step - loss: 11.0869 - accuracy: 0.1002 - val_loss: 10.9147 - val_accuracy: 0.1008\n",
            "Epoch 5/100\n",
            "938/938 [==============================] - 2s 2ms/step - loss: 11.0869 - accuracy: 0.1002 - val_loss: 10.9147 - val_accuracy: 0.1008\n",
            "Epoch 6/100\n",
            "938/938 [==============================] - 2s 2ms/step - loss: 11.0869 - accuracy: 0.1002 - val_loss: 10.9147 - val_accuracy: 0.1008\n",
            "Epoch 7/100\n",
            "938/938 [==============================] - 2s 2ms/step - loss: 11.0858 - accuracy: 0.1002 - val_loss: 10.9147 - val_accuracy: 0.1008\n",
            "Epoch 8/100\n",
            "938/938 [==============================] - 2s 2ms/step - loss: 11.0858 - accuracy: 0.1002 - val_loss: 10.9147 - val_accuracy: 0.1008\n",
            "Epoch 9/100\n",
            "938/938 [==============================] - 2s 2ms/step - loss: 11.0869 - accuracy: 0.1002 - val_loss: 10.9147 - val_accuracy: 0.1008\n",
            "Epoch 10/100\n",
            "938/938 [==============================] - 2s 2ms/step - loss: 11.0858 - accuracy: 0.1002 - val_loss: 10.9147 - val_accuracy: 0.1008\n",
            "Epoch 11/100\n",
            "938/938 [==============================] - 2s 2ms/step - loss: 11.0874 - accuracy: 0.1002 - val_loss: 10.9147 - val_accuracy: 0.1008\n",
            "469/469 [==============================] - 1s 2ms/step - loss: 11.0405 - accuracy: 0.0994\n",
            "Epoch 1/100\n",
            "938/938 [==============================] - 2s 3ms/step - loss: 2.4722 - accuracy: 0.1045 - val_loss: 2.3026 - val_accuracy: 0.1074\n",
            "Epoch 2/100\n",
            "938/938 [==============================] - 2s 3ms/step - loss: 2.3029 - accuracy: 0.1075 - val_loss: 2.3026 - val_accuracy: 0.0960\n",
            "Epoch 3/100\n",
            "938/938 [==============================] - 2s 3ms/step - loss: 2.3026 - accuracy: 0.0958 - val_loss: 2.3026 - val_accuracy: 0.0960\n",
            "Epoch 4/100\n",
            "938/938 [==============================] - 2s 3ms/step - loss: 2.3026 - accuracy: 0.0958 - val_loss: 2.3026 - val_accuracy: 0.0960\n",
            "Epoch 5/100\n",
            "938/938 [==============================] - 2s 3ms/step - loss: 2.3026 - accuracy: 0.0958 - val_loss: 2.3026 - val_accuracy: 0.0960\n",
            "Epoch 6/100\n",
            "938/938 [==============================] - 2s 3ms/step - loss: 2.3026 - accuracy: 0.0958 - val_loss: 2.3026 - val_accuracy: 0.0960\n",
            "Epoch 7/100\n",
            "938/938 [==============================] - 2s 3ms/step - loss: 2.3026 - accuracy: 0.0958 - val_loss: 2.3026 - val_accuracy: 0.0960\n",
            "Epoch 8/100\n",
            "938/938 [==============================] - 2s 3ms/step - loss: 2.3026 - accuracy: 0.0958 - val_loss: 2.3026 - val_accuracy: 0.0960\n",
            "Epoch 9/100\n",
            "938/938 [==============================] - 2s 3ms/step - loss: 2.3026 - accuracy: 0.0958 - val_loss: 2.3026 - val_accuracy: 0.0960\n",
            "Epoch 10/100\n",
            "938/938 [==============================] - 2s 3ms/step - loss: 2.3026 - accuracy: 0.0958 - val_loss: 2.3026 - val_accuracy: 0.0960\n",
            "Epoch 11/100\n",
            "938/938 [==============================] - 2s 3ms/step - loss: 2.3026 - accuracy: 0.0958 - val_loss: 2.3026 - val_accuracy: 0.0960\n",
            "469/469 [==============================] - 1s 2ms/step - loss: 2.3026 - accuracy: 0.0949\n",
            "Epoch 1/100\n",
            "938/938 [==============================] - 2s 3ms/step - loss: 6.2420 - accuracy: 0.1272 - val_loss: 7.8806 - val_accuracy: 0.1006\n",
            "Epoch 2/100\n",
            "938/938 [==============================] - 2s 3ms/step - loss: 4.0222 - accuracy: 0.1083 - val_loss: 2.3026 - val_accuracy: 0.1168\n",
            "Epoch 3/100\n",
            "938/938 [==============================] - 2s 3ms/step - loss: 2.3026 - accuracy: 0.1083 - val_loss: 2.3026 - val_accuracy: 0.1168\n",
            "Epoch 4/100\n",
            "938/938 [==============================] - 2s 3ms/step - loss: 2.3026 - accuracy: 0.1083 - val_loss: 2.3026 - val_accuracy: 0.1168\n",
            "Epoch 5/100\n",
            "938/938 [==============================] - 2s 2ms/step - loss: 2.3026 - accuracy: 0.1083 - val_loss: 2.3026 - val_accuracy: 0.1168\n",
            "Epoch 6/100\n",
            "938/938 [==============================] - 2s 3ms/step - loss: 2.3026 - accuracy: 0.1083 - val_loss: 2.3026 - val_accuracy: 0.1168\n",
            "Epoch 7/100\n",
            "938/938 [==============================] - 2s 3ms/step - loss: 2.3026 - accuracy: 0.1083 - val_loss: 2.3026 - val_accuracy: 0.1168\n",
            "Epoch 8/100\n",
            "938/938 [==============================] - 2s 3ms/step - loss: 2.3026 - accuracy: 0.1083 - val_loss: 2.3026 - val_accuracy: 0.1168\n",
            "Epoch 9/100\n",
            "938/938 [==============================] - 2s 3ms/step - loss: 2.3026 - accuracy: 0.1083 - val_loss: 2.3026 - val_accuracy: 0.1168\n",
            "Epoch 10/100\n",
            "938/938 [==============================] - 2s 3ms/step - loss: 2.3026 - accuracy: 0.1083 - val_loss: 2.3026 - val_accuracy: 0.1168\n",
            "Epoch 11/100\n",
            "938/938 [==============================] - 2s 3ms/step - loss: 2.3026 - accuracy: 0.1083 - val_loss: 2.3026 - val_accuracy: 0.1168\n",
            "Epoch 12/100\n",
            "938/938 [==============================] - 2s 3ms/step - loss: 2.3026 - accuracy: 0.1083 - val_loss: 2.3026 - val_accuracy: 0.1168\n",
            "469/469 [==============================] - 1s 2ms/step - loss: 2.3030 - accuracy: 0.1064\n",
            "Epoch 1/100\n",
            "938/938 [==============================] - 2s 3ms/step - loss: 4.7957 - accuracy: 0.1323 - val_loss: 8.1537 - val_accuracy: 0.1000\n",
            "Epoch 2/100\n",
            "938/938 [==============================] - 2s 3ms/step - loss: 8.2286 - accuracy: 0.1009 - val_loss: 8.1537 - val_accuracy: 0.1000\n",
            "Epoch 3/100\n",
            "938/938 [==============================] - 2s 3ms/step - loss: 8.2313 - accuracy: 0.1009 - val_loss: 8.1537 - val_accuracy: 0.1000\n",
            "Epoch 4/100\n",
            "938/938 [==============================] - 2s 3ms/step - loss: 8.2297 - accuracy: 0.1009 - val_loss: 8.1537 - val_accuracy: 0.1000\n",
            "Epoch 5/100\n",
            "938/938 [==============================] - 2s 3ms/step - loss: 8.2291 - accuracy: 0.1009 - val_loss: 8.1537 - val_accuracy: 0.1000\n",
            "Epoch 6/100\n",
            "938/938 [==============================] - 2s 3ms/step - loss: 8.2307 - accuracy: 0.1009 - val_loss: 8.1537 - val_accuracy: 0.1000\n",
            "Epoch 7/100\n",
            "938/938 [==============================] - 2s 3ms/step - loss: 8.2297 - accuracy: 0.1009 - val_loss: 8.1537 - val_accuracy: 0.1000\n",
            "Epoch 8/100\n",
            "938/938 [==============================] - 2s 3ms/step - loss: 8.2291 - accuracy: 0.1009 - val_loss: 8.1537 - val_accuracy: 0.1000\n",
            "Epoch 9/100\n",
            "938/938 [==============================] - 2s 3ms/step - loss: 8.2297 - accuracy: 0.1009 - val_loss: 8.1537 - val_accuracy: 0.1000\n",
            "Epoch 10/100\n",
            "938/938 [==============================] - 2s 3ms/step - loss: 8.2291 - accuracy: 0.1009 - val_loss: 8.1537 - val_accuracy: 0.1000\n",
            "Epoch 11/100\n",
            "938/938 [==============================] - 2s 3ms/step - loss: 8.2313 - accuracy: 0.1009 - val_loss: 8.1537 - val_accuracy: 0.1000\n",
            "469/469 [==============================] - 1s 2ms/step - loss: 8.2850 - accuracy: 0.0982\n",
            "Epoch 1/100\n",
            "938/938 [==============================] - 3s 4ms/step - loss: 3.8470 - accuracy: 0.1186 - val_loss: 3.6051 - val_accuracy: 0.1008\n",
            "Epoch 2/100\n",
            "938/938 [==============================] - 3s 4ms/step - loss: 3.8726 - accuracy: 0.0992 - val_loss: 6.8994 - val_accuracy: 0.1000\n",
            "Epoch 3/100\n",
            "938/938 [==============================] - 3s 4ms/step - loss: 6.7879 - accuracy: 0.0986 - val_loss: 6.8994 - val_accuracy: 0.1000\n",
            "Epoch 4/100\n",
            "938/938 [==============================] - 3s 4ms/step - loss: 6.7857 - accuracy: 0.0986 - val_loss: 6.8994 - val_accuracy: 0.1000\n",
            "Epoch 5/100\n",
            "938/938 [==============================] - 3s 4ms/step - loss: 6.7873 - accuracy: 0.0986 - val_loss: 6.8994 - val_accuracy: 0.1000\n",
            "Epoch 6/100\n",
            "938/938 [==============================] - 3s 4ms/step - loss: 6.7900 - accuracy: 0.0986 - val_loss: 6.8994 - val_accuracy: 0.1000\n",
            "Epoch 7/100\n",
            "938/938 [==============================] - 3s 4ms/step - loss: 6.7852 - accuracy: 0.0986 - val_loss: 6.8994 - val_accuracy: 0.1000\n",
            "Epoch 8/100\n",
            "938/938 [==============================] - 3s 4ms/step - loss: 6.7884 - accuracy: 0.0986 - val_loss: 6.8994 - val_accuracy: 0.1000\n",
            "Epoch 9/100\n",
            "938/938 [==============================] - 3s 4ms/step - loss: 6.7857 - accuracy: 0.0986 - val_loss: 6.8994 - val_accuracy: 0.1000\n",
            "Epoch 10/100\n",
            "938/938 [==============================] - 3s 4ms/step - loss: 6.7868 - accuracy: 0.0986 - val_loss: 6.8994 - val_accuracy: 0.1000\n",
            "Epoch 11/100\n",
            "938/938 [==============================] - 3s 4ms/step - loss: 6.7857 - accuracy: 0.0986 - val_loss: 6.8994 - val_accuracy: 0.1000\n",
            "469/469 [==============================] - 1s 2ms/step - loss: 6.7322 - accuracy: 0.1029\n",
            "Epoch 1/100\n",
            "938/938 [==============================] - 3s 4ms/step - loss: 2.3227 - accuracy: 0.1242 - val_loss: 2.3026 - val_accuracy: 0.1260\n",
            "Epoch 2/100\n",
            "938/938 [==============================] - 3s 4ms/step - loss: 2.3026 - accuracy: 0.1253 - val_loss: 2.3026 - val_accuracy: 0.1260\n",
            "Epoch 3/100\n",
            "938/938 [==============================] - 4s 4ms/step - loss: 2.3026 - accuracy: 0.1253 - val_loss: 2.3026 - val_accuracy: 0.1260\n",
            "Epoch 4/100\n",
            "938/938 [==============================] - 3s 4ms/step - loss: 2.3026 - accuracy: 0.1253 - val_loss: 2.3026 - val_accuracy: 0.1260\n",
            "Epoch 5/100\n",
            "938/938 [==============================] - 3s 4ms/step - loss: 2.3026 - accuracy: 0.1253 - val_loss: 2.3026 - val_accuracy: 0.1260\n",
            "Epoch 6/100\n",
            "938/938 [==============================] - 3s 3ms/step - loss: 2.3026 - accuracy: 0.1253 - val_loss: 2.3026 - val_accuracy: 0.1260\n",
            "Epoch 7/100\n",
            "938/938 [==============================] - 3s 4ms/step - loss: 2.3026 - accuracy: 0.1253 - val_loss: 2.3026 - val_accuracy: 0.1260\n",
            "Epoch 8/100\n",
            "938/938 [==============================] - 3s 4ms/step - loss: 2.3026 - accuracy: 0.1253 - val_loss: 2.3026 - val_accuracy: 0.1260\n",
            "Epoch 9/100\n",
            "938/938 [==============================] - 3s 4ms/step - loss: 2.3026 - accuracy: 0.1253 - val_loss: 2.3026 - val_accuracy: 0.1260\n",
            "Epoch 10/100\n",
            "938/938 [==============================] - 3s 4ms/step - loss: 2.3026 - accuracy: 0.1253 - val_loss: 2.3026 - val_accuracy: 0.1260\n",
            "Epoch 11/100\n",
            "938/938 [==============================] - 3s 4ms/step - loss: 2.3026 - accuracy: 0.1253 - val_loss: 2.3026 - val_accuracy: 0.1260\n",
            "469/469 [==============================] - 1s 2ms/step - loss: 2.3026 - accuracy: 0.1194\n",
            "Epoch 1/100\n",
            "938/938 [==============================] - 3s 4ms/step - loss: 13.5205 - accuracy: 0.1004 - val_loss: 13.6415 - val_accuracy: 0.0952\n",
            "Epoch 2/100\n",
            "938/938 [==============================] - 3s 4ms/step - loss: 13.6087 - accuracy: 0.1003 - val_loss: 13.6415 - val_accuracy: 0.0952\n",
            "Epoch 3/100\n",
            "938/938 [==============================] - 3s 4ms/step - loss: 13.6087 - accuracy: 0.1003 - val_loss: 13.6415 - val_accuracy: 0.0952\n",
            "Epoch 4/100\n",
            "938/938 [==============================] - 3s 4ms/step - loss: 13.6087 - accuracy: 0.1003 - val_loss: 13.6415 - val_accuracy: 0.0952\n",
            "Epoch 5/100\n",
            "938/938 [==============================] - 3s 4ms/step - loss: 13.6081 - accuracy: 0.1003 - val_loss: 13.6415 - val_accuracy: 0.0952\n",
            "Epoch 6/100\n",
            "938/938 [==============================] - 3s 4ms/step - loss: 13.6087 - accuracy: 0.1003 - val_loss: 13.6415 - val_accuracy: 0.0952\n",
            "Epoch 7/100\n",
            "938/938 [==============================] - 3s 4ms/step - loss: 13.6092 - accuracy: 0.1003 - val_loss: 13.6415 - val_accuracy: 0.0952\n",
            "Epoch 8/100\n",
            "938/938 [==============================] - 3s 4ms/step - loss: 13.6087 - accuracy: 0.1003 - val_loss: 13.6415 - val_accuracy: 0.0952\n",
            "Epoch 9/100\n",
            "938/938 [==============================] - 3s 4ms/step - loss: 13.6103 - accuracy: 0.1003 - val_loss: 13.6415 - val_accuracy: 0.0952\n",
            "Epoch 10/100\n",
            "938/938 [==============================] - 3s 4ms/step - loss: 13.6097 - accuracy: 0.1003 - val_loss: 13.6415 - val_accuracy: 0.0952\n",
            "Epoch 11/100\n",
            "938/938 [==============================] - 3s 4ms/step - loss: 13.6092 - accuracy: 0.1003 - val_loss: 13.6415 - val_accuracy: 0.0952\n",
            "Epoch 12/100\n",
            "938/938 [==============================] - 3s 4ms/step - loss: 13.6108 - accuracy: 0.1003 - val_loss: 13.6415 - val_accuracy: 0.0952\n",
            "Epoch 13/100\n",
            "938/938 [==============================] - 3s 4ms/step - loss: 13.6097 - accuracy: 0.1003 - val_loss: 13.6415 - val_accuracy: 0.0952\n",
            "Epoch 14/100\n",
            "938/938 [==============================] - 3s 4ms/step - loss: 13.6097 - accuracy: 0.1003 - val_loss: 13.6415 - val_accuracy: 0.0952\n",
            "Epoch 15/100\n",
            "938/938 [==============================] - 3s 4ms/step - loss: 13.6076 - accuracy: 0.1003 - val_loss: 13.6415 - val_accuracy: 0.0952\n",
            "Epoch 16/100\n",
            "938/938 [==============================] - 3s 4ms/step - loss: 13.6092 - accuracy: 0.1003 - val_loss: 13.6415 - val_accuracy: 0.0952\n",
            "Epoch 17/100\n",
            "938/938 [==============================] - 3s 4ms/step - loss: 13.6086 - accuracy: 0.1003 - val_loss: 13.6415 - val_accuracy: 0.0952\n",
            "Epoch 18/100\n",
            "938/938 [==============================] - 3s 4ms/step - loss: 13.6092 - accuracy: 0.1003 - val_loss: 13.6415 - val_accuracy: 0.0952\n",
            "Epoch 19/100\n",
            "938/938 [==============================] - 3s 4ms/step - loss: 13.6097 - accuracy: 0.1003 - val_loss: 13.6415 - val_accuracy: 0.0952\n",
            "Epoch 20/100\n",
            "938/938 [==============================] - 3s 4ms/step - loss: 13.6103 - accuracy: 0.1003 - val_loss: 13.6415 - val_accuracy: 0.0952\n",
            "Epoch 21/100\n",
            "938/938 [==============================] - 3s 4ms/step - loss: 13.6097 - accuracy: 0.1003 - val_loss: 13.6415 - val_accuracy: 0.0952\n",
            "Epoch 22/100\n",
            "938/938 [==============================] - 3s 4ms/step - loss: 13.6087 - accuracy: 0.1003 - val_loss: 13.6415 - val_accuracy: 0.0952\n",
            "Epoch 23/100\n",
            "938/938 [==============================] - 3s 4ms/step - loss: 13.6086 - accuracy: 0.1003 - val_loss: 13.6415 - val_accuracy: 0.0952\n",
            "Epoch 24/100\n",
            "938/938 [==============================] - 3s 4ms/step - loss: 13.6086 - accuracy: 0.1003 - val_loss: 13.6415 - val_accuracy: 0.0952\n",
            "Epoch 25/100\n",
            "938/938 [==============================] - 3s 4ms/step - loss: 13.6102 - accuracy: 0.1003 - val_loss: 13.6415 - val_accuracy: 0.0952\n",
            "Epoch 26/100\n",
            "938/938 [==============================] - 3s 4ms/step - loss: 13.6092 - accuracy: 0.1003 - val_loss: 13.6415 - val_accuracy: 0.0952\n",
            "Epoch 27/100\n",
            "938/938 [==============================] - 3s 4ms/step - loss: 13.6097 - accuracy: 0.1003 - val_loss: 13.6415 - val_accuracy: 0.0952\n",
            "Epoch 28/100\n",
            "938/938 [==============================] - 3s 4ms/step - loss: 13.6070 - accuracy: 0.1003 - val_loss: 13.6415 - val_accuracy: 0.0952\n",
            "Epoch 29/100\n",
            "938/938 [==============================] - 3s 4ms/step - loss: 13.6091 - accuracy: 0.1003 - val_loss: 13.6415 - val_accuracy: 0.0952\n",
            "Epoch 30/100\n",
            "938/938 [==============================] - 3s 4ms/step - loss: 13.6080 - accuracy: 0.1003 - val_loss: 13.6414 - val_accuracy: 0.0952\n",
            "Epoch 31/100\n",
            "938/938 [==============================] - 3s 4ms/step - loss: 13.6091 - accuracy: 0.1003 - val_loss: 13.6414 - val_accuracy: 0.0952\n",
            "Epoch 32/100\n",
            "938/938 [==============================] - 3s 4ms/step - loss: 13.6096 - accuracy: 0.1003 - val_loss: 13.6413 - val_accuracy: 0.0952\n",
            "Epoch 33/100\n",
            "938/938 [==============================] - 3s 4ms/step - loss: 13.6088 - accuracy: 0.1003 - val_loss: 13.6404 - val_accuracy: 0.0952\n",
            "Epoch 34/100\n",
            "938/938 [==============================] - 3s 4ms/step - loss: 13.6075 - accuracy: 0.1003 - val_loss: 13.6412 - val_accuracy: 0.0952\n",
            "Epoch 35/100\n",
            "938/938 [==============================] - 3s 4ms/step - loss: 13.7893 - accuracy: 0.1003 - val_loss: 14.5910 - val_accuracy: 0.0952\n",
            "Epoch 36/100\n",
            "938/938 [==============================] - 3s 4ms/step - loss: 14.5018 - accuracy: 0.1003 - val_loss: 14.5910 - val_accuracy: 0.0952\n",
            "Epoch 37/100\n",
            "938/938 [==============================] - 3s 4ms/step - loss: 14.5018 - accuracy: 0.1003 - val_loss: 14.5910 - val_accuracy: 0.0952\n",
            "Epoch 38/100\n",
            "938/938 [==============================] - 3s 3ms/step - loss: 14.5018 - accuracy: 0.1003 - val_loss: 14.5910 - val_accuracy: 0.0952\n",
            "Epoch 39/100\n",
            "938/938 [==============================] - 3s 4ms/step - loss: 14.5023 - accuracy: 0.1003 - val_loss: 14.5910 - val_accuracy: 0.0952\n",
            "Epoch 40/100\n",
            "938/938 [==============================] - 3s 4ms/step - loss: 14.5018 - accuracy: 0.1003 - val_loss: 14.5910 - val_accuracy: 0.0952\n",
            "Epoch 41/100\n",
            "938/938 [==============================] - 3s 4ms/step - loss: 14.5012 - accuracy: 0.1003 - val_loss: 14.5910 - val_accuracy: 0.0952\n",
            "Epoch 42/100\n",
            "938/938 [==============================] - 3s 4ms/step - loss: 14.4996 - accuracy: 0.1003 - val_loss: 14.5910 - val_accuracy: 0.0952\n",
            "Epoch 43/100\n",
            "938/938 [==============================] - 3s 4ms/step - loss: 14.5023 - accuracy: 0.1003 - val_loss: 14.5910 - val_accuracy: 0.0952\n",
            "469/469 [==============================] - 1s 2ms/step - loss: 14.4903 - accuracy: 0.1010\n",
            "Epoch 1/100\n",
            "938/938 [==============================] - 3s 3ms/step - loss: 11.0515 - accuracy: 0.0990 - val_loss: 11.1264 - val_accuracy: 0.1008\n",
            "Epoch 2/100\n",
            "938/938 [==============================] - 3s 3ms/step - loss: 11.0536 - accuracy: 0.0989 - val_loss: 11.1264 - val_accuracy: 0.1008\n",
            "Epoch 3/100\n",
            "938/938 [==============================] - 3s 3ms/step - loss: 11.0525 - accuracy: 0.0989 - val_loss: 11.1264 - val_accuracy: 0.1008\n",
            "Epoch 4/100\n",
            "938/938 [==============================] - 2s 3ms/step - loss: 11.0547 - accuracy: 0.0989 - val_loss: 11.1264 - val_accuracy: 0.1008\n",
            "Epoch 5/100\n",
            "938/938 [==============================] - 3s 3ms/step - loss: 11.0531 - accuracy: 0.0989 - val_loss: 11.1264 - val_accuracy: 0.1008\n",
            "Epoch 6/100\n",
            "938/938 [==============================] - 3s 3ms/step - loss: 11.0563 - accuracy: 0.0989 - val_loss: 11.1264 - val_accuracy: 0.1008\n",
            "Epoch 7/100\n",
            "938/938 [==============================] - 3s 3ms/step - loss: 11.0552 - accuracy: 0.0989 - val_loss: 11.1264 - val_accuracy: 0.1008\n",
            "Epoch 8/100\n",
            "938/938 [==============================] - 3s 3ms/step - loss: 11.0536 - accuracy: 0.0989 - val_loss: 11.1264 - val_accuracy: 0.1008\n",
            "Epoch 9/100\n",
            "938/938 [==============================] - 3s 3ms/step - loss: 11.0552 - accuracy: 0.0989 - val_loss: 11.1264 - val_accuracy: 0.1008\n",
            "Epoch 10/100\n",
            "938/938 [==============================] - 3s 3ms/step - loss: 11.0547 - accuracy: 0.0989 - val_loss: 11.1264 - val_accuracy: 0.1008\n",
            "Epoch 11/100\n",
            "938/938 [==============================] - 3s 3ms/step - loss: 11.0541 - accuracy: 0.0989 - val_loss: 11.1264 - val_accuracy: 0.1008\n",
            "469/469 [==============================] - 1s 2ms/step - loss: 11.0355 - accuracy: 0.1019\n",
            "Epoch 1/100\n",
            "938/938 [==============================] - 3s 3ms/step - loss: 8.2597 - accuracy: 0.0990 - val_loss: 8.2018 - val_accuracy: 0.1054\n",
            "Epoch 2/100\n",
            "938/938 [==============================] - 3s 3ms/step - loss: 8.2592 - accuracy: 0.0988 - val_loss: 8.2018 - val_accuracy: 0.1054\n",
            "Epoch 3/100\n",
            "938/938 [==============================] - 3s 3ms/step - loss: 8.2592 - accuracy: 0.0988 - val_loss: 8.2018 - val_accuracy: 0.1054\n",
            "Epoch 4/100\n",
            "938/938 [==============================] - 3s 3ms/step - loss: 8.2608 - accuracy: 0.0988 - val_loss: 8.2018 - val_accuracy: 0.1054\n",
            "Epoch 5/100\n",
            "938/938 [==============================] - 3s 3ms/step - loss: 8.2603 - accuracy: 0.0988 - val_loss: 8.2018 - val_accuracy: 0.1054\n",
            "Epoch 6/100\n",
            "938/938 [==============================] - 3s 3ms/step - loss: 8.2603 - accuracy: 0.0988 - val_loss: 8.2018 - val_accuracy: 0.1054\n",
            "Epoch 7/100\n",
            "938/938 [==============================] - 3s 3ms/step - loss: 8.2608 - accuracy: 0.0988 - val_loss: 8.2018 - val_accuracy: 0.1054\n",
            "Epoch 8/100\n",
            "938/938 [==============================] - 3s 3ms/step - loss: 8.2592 - accuracy: 0.0988 - val_loss: 8.2018 - val_accuracy: 0.1054\n",
            "Epoch 9/100\n",
            "938/938 [==============================] - 3s 3ms/step - loss: 8.2608 - accuracy: 0.0988 - val_loss: 8.2018 - val_accuracy: 0.1054\n",
            "Epoch 10/100\n",
            "938/938 [==============================] - 3s 3ms/step - loss: 8.2624 - accuracy: 0.0988 - val_loss: 8.2018 - val_accuracy: 0.1054\n",
            "Epoch 11/100\n",
            "938/938 [==============================] - 3s 3ms/step - loss: 8.2613 - accuracy: 0.0988 - val_loss: 8.2018 - val_accuracy: 0.1054\n",
            "469/469 [==============================] - 1s 2ms/step - loss: 8.2148 - accuracy: 0.1006\n",
            "Epoch 1/100\n",
            "938/938 [==============================] - 3s 3ms/step - loss: 2.3436 - accuracy: 0.0984 - val_loss: 2.3026 - val_accuracy: 0.1018\n",
            "Epoch 2/100\n",
            "938/938 [==============================] - 3s 3ms/step - loss: 2.3026 - accuracy: 0.0984 - val_loss: 2.3026 - val_accuracy: 0.1018\n",
            "Epoch 3/100\n",
            "938/938 [==============================] - 3s 3ms/step - loss: 2.3026 - accuracy: 0.0984 - val_loss: 2.3026 - val_accuracy: 0.1018\n",
            "Epoch 4/100\n",
            "938/938 [==============================] - 3s 3ms/step - loss: 2.3026 - accuracy: 0.0984 - val_loss: 2.3026 - val_accuracy: 0.1018\n",
            "Epoch 5/100\n",
            "938/938 [==============================] - 3s 3ms/step - loss: 2.3026 - accuracy: 0.0984 - val_loss: 2.3026 - val_accuracy: 0.1018\n",
            "Epoch 6/100\n",
            "938/938 [==============================] - 3s 3ms/step - loss: 2.3026 - accuracy: 0.0984 - val_loss: 2.3026 - val_accuracy: 0.1018\n",
            "Epoch 7/100\n",
            "938/938 [==============================] - 3s 3ms/step - loss: 2.3026 - accuracy: 0.0984 - val_loss: 2.3026 - val_accuracy: 0.1018\n",
            "Epoch 8/100\n",
            "938/938 [==============================] - 3s 3ms/step - loss: 2.3026 - accuracy: 0.0984 - val_loss: 2.3026 - val_accuracy: 0.1018\n",
            "Epoch 9/100\n",
            "938/938 [==============================] - 3s 3ms/step - loss: 2.3026 - accuracy: 0.0984 - val_loss: 2.3026 - val_accuracy: 0.1018\n",
            "Epoch 10/100\n",
            "938/938 [==============================] - 3s 3ms/step - loss: 2.3026 - accuracy: 0.0984 - val_loss: 2.3026 - val_accuracy: 0.1018\n",
            "Epoch 11/100\n",
            "938/938 [==============================] - 3s 3ms/step - loss: 2.3026 - accuracy: 0.0984 - val_loss: 2.3026 - val_accuracy: 0.1018\n",
            "469/469 [==============================] - 1s 2ms/step - loss: 2.3026 - accuracy: 0.1027\n",
            "Epoch 1/100\n",
            "938/938 [==============================] - 3s 4ms/step - loss: 4.7460 - accuracy: 0.1054 - val_loss: 2.3026 - val_accuracy: 0.1060\n",
            "Epoch 2/100\n",
            "938/938 [==============================] - 3s 4ms/step - loss: 2.3026 - accuracy: 0.1087 - val_loss: 2.3026 - val_accuracy: 0.1060\n",
            "Epoch 3/100\n",
            "938/938 [==============================] - 3s 4ms/step - loss: 2.3026 - accuracy: 0.1087 - val_loss: 2.3026 - val_accuracy: 0.1060\n",
            "Epoch 4/100\n",
            "938/938 [==============================] - 3s 4ms/step - loss: 2.3026 - accuracy: 0.1087 - val_loss: 2.3026 - val_accuracy: 0.1060\n",
            "Epoch 5/100\n",
            "938/938 [==============================] - 3s 3ms/step - loss: 2.3026 - accuracy: 0.1087 - val_loss: 2.3026 - val_accuracy: 0.1060\n",
            "Epoch 6/100\n",
            "938/938 [==============================] - 3s 3ms/step - loss: 2.3026 - accuracy: 0.1087 - val_loss: 2.3026 - val_accuracy: 0.1060\n",
            "Epoch 7/100\n",
            "938/938 [==============================] - 3s 3ms/step - loss: 2.3026 - accuracy: 0.1087 - val_loss: 2.3026 - val_accuracy: 0.1060\n",
            "Epoch 8/100\n",
            "938/938 [==============================] - 3s 3ms/step - loss: 2.3026 - accuracy: 0.1087 - val_loss: 2.3026 - val_accuracy: 0.1060\n",
            "Epoch 9/100\n",
            "938/938 [==============================] - 3s 3ms/step - loss: 2.3026 - accuracy: 0.1087 - val_loss: 2.3026 - val_accuracy: 0.1060\n",
            "Epoch 10/100\n",
            "938/938 [==============================] - 3s 3ms/step - loss: 2.3026 - accuracy: 0.1087 - val_loss: 2.3026 - val_accuracy: 0.1060\n",
            "Epoch 11/100\n",
            "938/938 [==============================] - 3s 3ms/step - loss: 2.3026 - accuracy: 0.1087 - val_loss: 2.3026 - val_accuracy: 0.1060\n",
            "469/469 [==============================] - 1s 2ms/step - loss: 2.3026 - accuracy: 0.1079\n",
            "Epoch 1/100\n",
            "938/938 [==============================] - 3s 4ms/step - loss: 3.7693 - accuracy: 0.1109 - val_loss: 3.6975 - val_accuracy: 0.1000\n",
            "Epoch 2/100\n",
            "938/938 [==============================] - 3s 3ms/step - loss: 3.6640 - accuracy: 0.1024 - val_loss: 3.6744 - val_accuracy: 0.1000\n",
            "Epoch 3/100\n",
            "938/938 [==============================] - 3s 3ms/step - loss: 3.6703 - accuracy: 0.1092 - val_loss: 3.8040 - val_accuracy: 0.1006\n",
            "Epoch 4/100\n",
            "938/938 [==============================] - 3s 3ms/step - loss: 2.9118 - accuracy: 0.1073 - val_loss: 2.2083 - val_accuracy: 0.1008\n",
            "Epoch 5/100\n",
            "938/938 [==============================] - 3s 3ms/step - loss: 3.1371 - accuracy: 0.1007 - val_loss: 3.8206 - val_accuracy: 0.0952\n",
            "Epoch 6/100\n",
            "938/938 [==============================] - 3s 3ms/step - loss: 3.8388 - accuracy: 0.1004 - val_loss: 3.8206 - val_accuracy: 0.0952\n",
            "Epoch 7/100\n",
            "938/938 [==============================] - 3s 3ms/step - loss: 3.8393 - accuracy: 0.1004 - val_loss: 3.8206 - val_accuracy: 0.0952\n",
            "Epoch 8/100\n",
            "938/938 [==============================] - 3s 3ms/step - loss: 3.8388 - accuracy: 0.1004 - val_loss: 3.8206 - val_accuracy: 0.0952\n",
            "Epoch 9/100\n",
            "938/938 [==============================] - 3s 3ms/step - loss: 3.8398 - accuracy: 0.1004 - val_loss: 3.8206 - val_accuracy: 0.0952\n",
            "Epoch 10/100\n",
            "938/938 [==============================] - 3s 4ms/step - loss: 3.8420 - accuracy: 0.1004 - val_loss: 3.8206 - val_accuracy: 0.0952\n",
            "Epoch 11/100\n",
            "938/938 [==============================] - 3s 3ms/step - loss: 3.8393 - accuracy: 0.1004 - val_loss: 3.8206 - val_accuracy: 0.0952\n",
            "Epoch 12/100\n",
            "938/938 [==============================] - 3s 3ms/step - loss: 3.8398 - accuracy: 0.1004 - val_loss: 3.8206 - val_accuracy: 0.0952\n",
            "Epoch 13/100\n",
            "938/938 [==============================] - 3s 3ms/step - loss: 3.8393 - accuracy: 0.1004 - val_loss: 3.8206 - val_accuracy: 0.0952\n",
            "Epoch 14/100\n",
            "938/938 [==============================] - 3s 3ms/step - loss: 3.8393 - accuracy: 0.1004 - val_loss: 3.8206 - val_accuracy: 0.0952\n",
            "469/469 [==============================] - 1s 2ms/step - loss: 3.7452 - accuracy: 0.1008\n",
            "Epoch 1/100\n",
            "938/938 [==============================] - 4s 4ms/step - loss: 6.2883 - accuracy: 0.0992 - val_loss: 5.0948 - val_accuracy: 0.0972\n",
            "Epoch 2/100\n",
            "938/938 [==============================] - 3s 3ms/step - loss: 7.2700 - accuracy: 0.1015 - val_loss: 11.1329 - val_accuracy: 0.0970\n",
            "Epoch 3/100\n",
            "938/938 [==============================] - 3s 3ms/step - loss: 11.0622 - accuracy: 0.1004 - val_loss: 11.1329 - val_accuracy: 0.0970\n",
            "Epoch 4/100\n",
            "938/938 [==============================] - 3s 3ms/step - loss: 11.0606 - accuracy: 0.1004 - val_loss: 11.1329 - val_accuracy: 0.0970\n",
            "Epoch 5/100\n",
            "938/938 [==============================] - 3s 3ms/step - loss: 11.0622 - accuracy: 0.1004 - val_loss: 11.1329 - val_accuracy: 0.0970\n",
            "Epoch 6/100\n",
            "938/938 [==============================] - 3s 3ms/step - loss: 11.0606 - accuracy: 0.1004 - val_loss: 11.1329 - val_accuracy: 0.0970\n",
            "Epoch 7/100\n",
            "938/938 [==============================] - 3s 3ms/step - loss: 11.0601 - accuracy: 0.1004 - val_loss: 11.1329 - val_accuracy: 0.0970\n",
            "Epoch 8/100\n",
            "938/938 [==============================] - 3s 3ms/step - loss: 11.0611 - accuracy: 0.1004 - val_loss: 11.1329 - val_accuracy: 0.0970\n",
            "Epoch 9/100\n",
            "938/938 [==============================] - 3s 3ms/step - loss: 11.0611 - accuracy: 0.1004 - val_loss: 11.1329 - val_accuracy: 0.0970\n",
            "Epoch 10/100\n",
            "938/938 [==============================] - 3s 3ms/step - loss: 11.0601 - accuracy: 0.1004 - val_loss: 11.1329 - val_accuracy: 0.0970\n",
            "Epoch 11/100\n",
            "938/938 [==============================] - 3s 3ms/step - loss: 11.0606 - accuracy: 0.1004 - val_loss: 11.1329 - val_accuracy: 0.0970\n",
            "469/469 [==============================] - 1s 2ms/step - loss: 11.0209 - accuracy: 0.1001\n",
            "Epoch 1/100\n",
            "938/938 [==============================] - 3s 3ms/step - loss: 2.3396 - accuracy: 0.1009 - val_loss: 2.3047 - val_accuracy: 0.0974\n",
            "Epoch 2/100\n",
            "938/938 [==============================] - 2s 3ms/step - loss: 2.3026 - accuracy: 0.1007 - val_loss: 2.3047 - val_accuracy: 0.0974\n",
            "Epoch 3/100\n",
            "938/938 [==============================] - 2s 3ms/step - loss: 2.3026 - accuracy: 0.1007 - val_loss: 2.3047 - val_accuracy: 0.0974\n",
            "Epoch 4/100\n",
            "938/938 [==============================] - 2s 3ms/step - loss: 2.3026 - accuracy: 0.1007 - val_loss: 2.3047 - val_accuracy: 0.0974\n",
            "Epoch 5/100\n",
            "938/938 [==============================] - 2s 3ms/step - loss: 2.3026 - accuracy: 0.1007 - val_loss: 2.3047 - val_accuracy: 0.0974\n",
            "Epoch 6/100\n",
            "938/938 [==============================] - 2s 3ms/step - loss: 2.3026 - accuracy: 0.1007 - val_loss: 2.3047 - val_accuracy: 0.0974\n",
            "Epoch 7/100\n",
            "938/938 [==============================] - 2s 3ms/step - loss: 2.3026 - accuracy: 0.1007 - val_loss: 2.3047 - val_accuracy: 0.0974\n",
            "Epoch 8/100\n",
            "938/938 [==============================] - 2s 3ms/step - loss: 2.3026 - accuracy: 0.1007 - val_loss: 2.3047 - val_accuracy: 0.0974\n",
            "Epoch 9/100\n",
            "938/938 [==============================] - 2s 3ms/step - loss: 2.3026 - accuracy: 0.1007 - val_loss: 2.3047 - val_accuracy: 0.0974\n",
            "Epoch 10/100\n",
            "938/938 [==============================] - 2s 3ms/step - loss: 2.3026 - accuracy: 0.1007 - val_loss: 2.3047 - val_accuracy: 0.0974\n",
            "Epoch 11/100\n",
            "938/938 [==============================] - 2s 3ms/step - loss: 2.3026 - accuracy: 0.1007 - val_loss: 2.3047 - val_accuracy: 0.0974\n",
            "469/469 [==============================] - 1s 2ms/step - loss: 2.3037 - accuracy: 0.0995\n",
            "Epoch 1/100\n",
            "938/938 [==============================] - 3s 3ms/step - loss: 2.3673 - accuracy: 0.1039 - val_loss: 2.3026 - val_accuracy: 0.1008\n",
            "Epoch 2/100\n",
            "938/938 [==============================] - 2s 3ms/step - loss: 2.3026 - accuracy: 0.1018 - val_loss: 2.3026 - val_accuracy: 0.1008\n",
            "Epoch 3/100\n",
            "938/938 [==============================] - 2s 3ms/step - loss: 2.3026 - accuracy: 0.1018 - val_loss: 2.3026 - val_accuracy: 0.1008\n",
            "Epoch 4/100\n",
            "938/938 [==============================] - 3s 3ms/step - loss: 2.3026 - accuracy: 0.1018 - val_loss: 2.3026 - val_accuracy: 0.1008\n",
            "Epoch 5/100\n",
            "938/938 [==============================] - 3s 3ms/step - loss: 2.3026 - accuracy: 0.1018 - val_loss: 2.3026 - val_accuracy: 0.1008\n",
            "Epoch 6/100\n",
            "938/938 [==============================] - 3s 3ms/step - loss: 2.3026 - accuracy: 0.1018 - val_loss: 2.3026 - val_accuracy: 0.1008\n",
            "Epoch 7/100\n",
            "938/938 [==============================] - 2s 3ms/step - loss: 2.3026 - accuracy: 0.1018 - val_loss: 2.3026 - val_accuracy: 0.1008\n",
            "Epoch 8/100\n",
            "938/938 [==============================] - 3s 3ms/step - loss: 2.3026 - accuracy: 0.1018 - val_loss: 2.3026 - val_accuracy: 0.1008\n",
            "Epoch 9/100\n",
            "938/938 [==============================] - 3s 3ms/step - loss: 2.3026 - accuracy: 0.1018 - val_loss: 2.3026 - val_accuracy: 0.1008\n",
            "Epoch 10/100\n",
            "938/938 [==============================] - 3s 3ms/step - loss: 2.3026 - accuracy: 0.1018 - val_loss: 2.3026 - val_accuracy: 0.1008\n",
            "Epoch 11/100\n",
            "938/938 [==============================] - 2s 3ms/step - loss: 2.3026 - accuracy: 0.1018 - val_loss: 2.3026 - val_accuracy: 0.1008\n",
            "469/469 [==============================] - 1s 2ms/step - loss: 2.3026 - accuracy: 0.0997\n",
            "Epoch 1/100\n",
            "938/938 [==============================] - 3s 3ms/step - loss: 7.7764 - accuracy: 0.1026 - val_loss: 5.2309 - val_accuracy: 0.1008\n",
            "Epoch 2/100\n",
            "938/938 [==============================] - 3s 3ms/step - loss: 5.2976 - accuracy: 0.1002 - val_loss: 5.2298 - val_accuracy: 0.1008\n",
            "Epoch 3/100\n",
            "938/938 [==============================] - 3s 3ms/step - loss: 5.2972 - accuracy: 0.1002 - val_loss: 5.2297 - val_accuracy: 0.1008\n",
            "Epoch 4/100\n",
            "938/938 [==============================] - 2s 3ms/step - loss: 5.2976 - accuracy: 0.1002 - val_loss: 5.2297 - val_accuracy: 0.1008\n",
            "Epoch 5/100\n",
            "938/938 [==============================] - 2s 3ms/step - loss: 5.2991 - accuracy: 0.1002 - val_loss: 5.2295 - val_accuracy: 0.1008\n",
            "Epoch 6/100\n",
            "938/938 [==============================] - 2s 3ms/step - loss: 5.2879 - accuracy: 0.1002 - val_loss: 5.2155 - val_accuracy: 0.1008\n",
            "Epoch 7/100\n",
            "938/938 [==============================] - 3s 3ms/step - loss: 5.2783 - accuracy: 0.1002 - val_loss: 5.2085 - val_accuracy: 0.1008\n",
            "Epoch 8/100\n",
            "938/938 [==============================] - 3s 3ms/step - loss: 5.2859 - accuracy: 0.1002 - val_loss: 5.2297 - val_accuracy: 0.1008\n",
            "Epoch 9/100\n",
            "938/938 [==============================] - 2s 3ms/step - loss: 5.2976 - accuracy: 0.1002 - val_loss: 5.2297 - val_accuracy: 0.1008\n",
            "Epoch 10/100\n",
            "938/938 [==============================] - 2s 3ms/step - loss: 5.2992 - accuracy: 0.1002 - val_loss: 5.2297 - val_accuracy: 0.1008\n",
            "Epoch 11/100\n",
            "938/938 [==============================] - 2s 3ms/step - loss: 5.2975 - accuracy: 0.1002 - val_loss: 5.2297 - val_accuracy: 0.1008\n",
            "Epoch 12/100\n",
            "938/938 [==============================] - 3s 3ms/step - loss: 5.2970 - accuracy: 0.1002 - val_loss: 5.2296 - val_accuracy: 0.1008\n",
            "Epoch 13/100\n",
            "938/938 [==============================] - 3s 3ms/step - loss: 5.2964 - accuracy: 0.1002 - val_loss: 5.2296 - val_accuracy: 0.1008\n",
            "Epoch 14/100\n",
            "938/938 [==============================] - 2s 3ms/step - loss: 5.2929 - accuracy: 0.1002 - val_loss: 5.2296 - val_accuracy: 0.1008\n",
            "Epoch 15/100\n",
            "938/938 [==============================] - 2s 3ms/step - loss: 5.2995 - accuracy: 0.1002 - val_loss: 5.2292 - val_accuracy: 0.1008\n",
            "Epoch 16/100\n",
            "938/938 [==============================] - 3s 3ms/step - loss: 5.2725 - accuracy: 0.1002 - val_loss: 5.1995 - val_accuracy: 0.1008\n",
            "Epoch 17/100\n",
            "938/938 [==============================] - 3s 3ms/step - loss: 4.3506 - accuracy: 0.1002 - val_loss: 3.6990 - val_accuracy: 0.1008\n",
            "Epoch 18/100\n",
            "938/938 [==============================] - 2s 3ms/step - loss: 3.7641 - accuracy: 0.0990 - val_loss: 3.7241 - val_accuracy: 0.1006\n",
            "Epoch 19/100\n",
            "938/938 [==============================] - 2s 3ms/step - loss: 3.8078 - accuracy: 0.1002 - val_loss: 3.7243 - val_accuracy: 0.0978\n",
            "Epoch 20/100\n",
            "938/938 [==============================] - 3s 3ms/step - loss: 3.8129 - accuracy: 0.1018 - val_loss: 3.7242 - val_accuracy: 0.0980\n",
            "Epoch 21/100\n",
            "938/938 [==============================] - 3s 3ms/step - loss: 3.8099 - accuracy: 0.1019 - val_loss: 3.7243 - val_accuracy: 0.0982\n",
            "Epoch 22/100\n",
            "938/938 [==============================] - 3s 3ms/step - loss: 3.8141 - accuracy: 0.1019 - val_loss: 3.7243 - val_accuracy: 0.0982\n",
            "Epoch 23/100\n",
            "938/938 [==============================] - 3s 3ms/step - loss: 3.8146 - accuracy: 0.1020 - val_loss: 3.7243 - val_accuracy: 0.0982\n",
            "Epoch 24/100\n",
            "938/938 [==============================] - 3s 3ms/step - loss: 3.8141 - accuracy: 0.1020 - val_loss: 3.7243 - val_accuracy: 0.0982\n",
            "Epoch 25/100\n",
            "938/938 [==============================] - 3s 3ms/step - loss: 3.8135 - accuracy: 0.1020 - val_loss: 3.7243 - val_accuracy: 0.0982\n",
            "Epoch 26/100\n",
            "938/938 [==============================] - 2s 3ms/step - loss: 3.8135 - accuracy: 0.1021 - val_loss: 3.7243 - val_accuracy: 0.0982\n",
            "Epoch 27/100\n",
            "938/938 [==============================] - 3s 3ms/step - loss: 3.8135 - accuracy: 0.1021 - val_loss: 3.7243 - val_accuracy: 0.0982\n",
            "469/469 [==============================] - 1s 2ms/step - loss: 3.8250 - accuracy: 0.0981\n"
          ],
          "name": "stdout"
        },
        {
          "output_type": "stream",
          "text": [
            "[Parallel(n_jobs=1)]: Done  30 out of  30 | elapsed: 23.1min finished\n"
          ],
          "name": "stderr"
        },
        {
          "output_type": "stream",
          "text": [
            "Epoch 1/100\n",
            "1407/1407 [==============================] - 5s 4ms/step - loss: 2.8282 - accuracy: 0.1731 - val_loss: 2.1608 - val_accuracy: 0.1064\n",
            "Epoch 2/100\n",
            "1407/1407 [==============================] - 5s 4ms/step - loss: 2.0969 - accuracy: 0.2225 - val_loss: 2.0564 - val_accuracy: 0.2714\n",
            "Epoch 3/100\n",
            "1407/1407 [==============================] - 5s 4ms/step - loss: 4.1335 - accuracy: 0.1049 - val_loss: 3.7548 - val_accuracy: 0.1006\n",
            "Epoch 4/100\n",
            "1407/1407 [==============================] - 5s 4ms/step - loss: 3.8001 - accuracy: 0.0999 - val_loss: 3.7488 - val_accuracy: 0.1006\n",
            "Epoch 5/100\n",
            "1407/1407 [==============================] - 5s 4ms/step - loss: 3.7779 - accuracy: 0.0999 - val_loss: 3.7116 - val_accuracy: 0.1006\n",
            "Epoch 6/100\n",
            "1407/1407 [==============================] - 5s 4ms/step - loss: 3.4428 - accuracy: 0.0999 - val_loss: 2.2430 - val_accuracy: 0.1006\n",
            "Epoch 7/100\n",
            "1407/1407 [==============================] - 5s 4ms/step - loss: 2.2410 - accuracy: 0.0999 - val_loss: 2.3026 - val_accuracy: 0.1006\n",
            "Epoch 8/100\n",
            "1407/1407 [==============================] - 5s 4ms/step - loss: 2.3026 - accuracy: 0.0999 - val_loss: 2.3026 - val_accuracy: 0.1006\n",
            "Epoch 9/100\n",
            "1407/1407 [==============================] - 5s 4ms/step - loss: 2.3026 - accuracy: 0.0999 - val_loss: 2.3026 - val_accuracy: 0.1006\n",
            "Epoch 10/100\n",
            "1407/1407 [==============================] - 5s 4ms/step - loss: 2.3026 - accuracy: 0.0999 - val_loss: 2.3026 - val_accuracy: 0.1006\n",
            "Epoch 11/100\n",
            "1407/1407 [==============================] - 5s 4ms/step - loss: 2.3026 - accuracy: 0.0999 - val_loss: 2.3026 - val_accuracy: 0.1006\n",
            "Epoch 12/100\n",
            "1407/1407 [==============================] - 5s 4ms/step - loss: 2.3026 - accuracy: 0.0999 - val_loss: 2.3026 - val_accuracy: 0.1006\n"
          ],
          "name": "stdout"
        },
        {
          "output_type": "execute_result",
          "data": {
            "text/plain": [
              "RandomizedSearchCV(cv=3, error_score=nan,\n",
              "                   estimator=<tensorflow.python.keras.wrappers.scikit_learn.KerasClassifier object at 0x7f48a0524a58>,\n",
              "                   iid='deprecated', n_iter=10, n_jobs=None,\n",
              "                   param_distributions={'learning_rate': [0.0001, 0.0003, 0.001,\n",
              "                                                          0.003, 0.01, 0.03],\n",
              "                                        'n_hidden': [2, 4, 6, 8, 10],\n",
              "                                        'n_neurons': [100, 400, 700, 1000,\n",
              "                                                      1300]},\n",
              "                   pre_dispatch='2*n_jobs', random_state=None, refit=True,\n",
              "                   return_train_score=False, scoring=None, verbose=1)"
            ]
          },
          "metadata": {
            "tags": []
          },
          "execution_count": 31
        }
      ]
    },
    {
      "cell_type": "code",
      "metadata": {
        "id": "QMJbxD7CG-Aq",
        "colab": {
          "base_uri": "https://localhost:8080/",
          "height": 34
        },
        "outputId": "0711555f-43ca-49c8-93ec-6a9f15fb3219"
      },
      "source": [
        "rnd_search_cv.best_params_"
      ],
      "execution_count": null,
      "outputs": [
        {
          "output_type": "execute_result",
          "data": {
            "text/plain": [
              "{'learning_rate': 0.001, 'n_hidden': 10, 'n_neurons': 1000}"
            ]
          },
          "metadata": {
            "tags": []
          },
          "execution_count": 32
        }
      ]
    },
    {
      "cell_type": "code",
      "metadata": {
        "id": "yUVDbpnQ5An_",
        "colab": {
          "base_uri": "https://localhost:8080/",
          "height": 34
        },
        "outputId": "163f3298-1da2-4520-bdfa-42a232a34a6b"
      },
      "source": [
        "rnd_search_cv.best_score_"
      ],
      "execution_count": null,
      "outputs": [
        {
          "output_type": "execute_result",
          "data": {
            "text/plain": [
              "0.11488889157772064"
            ]
          },
          "metadata": {
            "tags": []
          },
          "execution_count": 36
        }
      ]
    },
    {
      "cell_type": "code",
      "metadata": {
        "id": "z9ZPV4mOH4fO",
        "colab": {
          "base_uri": "https://localhost:8080/",
          "height": 34
        },
        "outputId": "8131e200-ecf8-4468-9e6c-fae2e24f25ee"
      },
      "source": [
        "rnd_search_cv.best_estimator_"
      ],
      "execution_count": null,
      "outputs": [
        {
          "output_type": "execute_result",
          "data": {
            "text/plain": [
              "<tensorflow.python.keras.wrappers.scikit_learn.KerasClassifier at 0x7f48864629e8>"
            ]
          },
          "metadata": {
            "tags": []
          },
          "execution_count": 53
        }
      ]
    },
    {
      "cell_type": "markdown",
      "metadata": {
        "id": "YyhiZlxWZfOB"
      },
      "source": [
        "## The best score found is 0.1148 which is very low and best parameter found at learning rate 0.001 and the number of hidden layer is 10 and number of neuron in each hidden layer is 1000. RandomsearchCV do not work with all combination of the parameter like gridsearchCV. That could be a reason for getting low accuracy."
      ]
    },
    {
      "cell_type": "markdown",
      "metadata": {
        "id": "oVoLiC6Bukcw"
      },
      "source": [
        "**Question 4**<br/>\n",
        "Do at least one more thing to change your neural network.<br/>\n",
        "Describe the best neural network you found in this project. Include the plot of accuracy vs epoch, and plots of five typical misclassifications. Give the accuracy of this best model for each class (is it better/worse at classifying some classes?)."
      ]
    },
    {
      "cell_type": "markdown",
      "metadata": {
        "id": "M1l5T2spcn_T"
      },
      "source": [
        "## I am building the neural network with functional API with 2 hidden layer which consists of 500 neuron each."
      ]
    },
    {
      "cell_type": "code",
      "metadata": {
        "id": "IggddVV3vaHv"
      },
      "source": [
        "keras.backend.clear_session()\n",
        "np.random.seed(42)\n",
        "tf.random.set_seed(42)"
      ],
      "execution_count": null,
      "outputs": []
    },
    {
      "cell_type": "code",
      "metadata": {
        "id": "EI_cZaYPvaRo"
      },
      "source": [
        "input_ = keras.layers.Input(shape=(3072,))\n",
        "hidden1 = keras.layers.Dense(500,activation=\"relu\")(input_)\n",
        "hidden2 = keras.layers.Dense(500,activation=\"relu\")(hidden1)\n",
        "concat = keras.layers.concatenate([input_,hidden2])\n",
        "output = keras.layers.Dense(10,activation=\"softmax\")(concat)\n",
        "model_2 = keras.models.Model(inputs=[input_], outputs=[output])"
      ],
      "execution_count": null,
      "outputs": []
    },
    {
      "cell_type": "code",
      "metadata": {
        "id": "9YnWXTaRNMOc",
        "colab": {
          "base_uri": "https://localhost:8080/",
          "height": 336
        },
        "outputId": "3cab0cc1-29b0-4f0e-807a-0530f108adcb"
      },
      "source": [
        "model_2.summary()"
      ],
      "execution_count": null,
      "outputs": [
        {
          "output_type": "stream",
          "text": [
            "Model: \"model\"\n",
            "__________________________________________________________________________________________________\n",
            "Layer (type)                    Output Shape         Param #     Connected to                     \n",
            "==================================================================================================\n",
            "input_1 (InputLayer)            [(None, 3072)]       0                                            \n",
            "__________________________________________________________________________________________________\n",
            "dense (Dense)                   (None, 500)          1536500     input_1[0][0]                    \n",
            "__________________________________________________________________________________________________\n",
            "dense_1 (Dense)                 (None, 500)          250500      dense[0][0]                      \n",
            "__________________________________________________________________________________________________\n",
            "concatenate (Concatenate)       (None, 3572)         0           input_1[0][0]                    \n",
            "                                                                 dense_1[0][0]                    \n",
            "__________________________________________________________________________________________________\n",
            "dense_2 (Dense)                 (None, 10)           35730       concatenate[0][0]                \n",
            "==================================================================================================\n",
            "Total params: 1,822,730\n",
            "Trainable params: 1,822,730\n",
            "Non-trainable params: 0\n",
            "__________________________________________________________________________________________________\n"
          ],
          "name": "stdout"
        }
      ]
    },
    {
      "cell_type": "code",
      "metadata": {
        "id": "nYg7vRZWNMRZ",
        "colab": {
          "base_uri": "https://localhost:8080/",
          "height": 533
        },
        "outputId": "1e17d32a-413e-4024-e4ed-781c8dd2c4aa"
      },
      "source": [
        "keras.utils.plot_model(model_2,show_shapes=True)"
      ],
      "execution_count": null,
      "outputs": [
        {
          "output_type": "execute_result",
          "data": {
            "image/png": "[encoded data removed]",
            "text/plain": [
              "<IPython.core.display.Image object>"
            ]
          },
          "metadata": {
            "tags": []
          },
          "execution_count": 41
        }
      ]
    },
    {
      "cell_type": "code",
      "metadata": {
        "id": "lWd9PcrFOPat"
      },
      "source": [
        "checkpoint_cb = keras.callbacks.ModelCheckpoint(\"temp_model.tf\", save_best_only=True)"
      ],
      "execution_count": null,
      "outputs": []
    },
    {
      "cell_type": "code",
      "metadata": {
        "id": "lw83RjWoNMUc",
        "colab": {
          "base_uri": "https://localhost:8080/",
          "height": 1000
        },
        "outputId": "3c3fdfe0-e0bf-43e4-e7f9-7b28d079d653"
      },
      "source": [
        "model_2.compile(loss=\"sparse_categorical_crossentropy\",optimizer=\"sgd\",\n",
        "              metrics=[\"accuracy\"])\n",
        "early_stopping_cb = keras.callbacks.EarlyStopping(patience=10, \n",
        "                                                  restore_best_weights=True,\n",
        "                                                  verbose=1)\n",
        "history_2 = model_2.fit(X_train_tr,y_train_tr, epochs=30, batch_size=32,\n",
        "                    validation_data=(X_train_v,y_train_v),\n",
        "                    callbacks=[checkpoint_cb, early_stopping_cb])"
      ],
      "execution_count": null,
      "outputs": [
        {
          "output_type": "stream",
          "text": [
            "Epoch 1/30\n",
            "1407/1407 [==============================] - ETA: 0s - loss: 1.9357 - accuracy: 0.3087INFO:tensorflow:Assets written to: temp_model.tf/assets\n",
            "1407/1407 [==============================] - 4s 3ms/step - loss: 1.9357 - accuracy: 0.3087 - val_loss: 1.8270 - val_accuracy: 0.3538\n",
            "Epoch 2/30\n",
            "1407/1407 [==============================] - 3s 2ms/step - loss: 1.7898 - accuracy: 0.3712 - val_loss: 1.9292 - val_accuracy: 0.3268\n",
            "Epoch 3/30\n",
            "1390/1407 [============================>.] - ETA: 0s - loss: 1.7184 - accuracy: 0.3957INFO:tensorflow:Assets written to: temp_model.tf/assets\n",
            "1407/1407 [==============================] - 4s 3ms/step - loss: 1.7191 - accuracy: 0.3953 - val_loss: 1.7830 - val_accuracy: 0.3686\n",
            "Epoch 4/30\n",
            "1407/1407 [==============================] - 3s 2ms/step - loss: 1.6630 - accuracy: 0.4120 - val_loss: 1.9729 - val_accuracy: 0.3068\n",
            "Epoch 5/30\n",
            "1407/1407 [==============================] - 3s 2ms/step - loss: 1.6164 - accuracy: 0.4305 - val_loss: 1.9719 - val_accuracy: 0.3378\n",
            "Epoch 6/30\n",
            "1407/1407 [==============================] - 3s 2ms/step - loss: 1.5773 - accuracy: 0.4432 - val_loss: 1.8005 - val_accuracy: 0.3638\n",
            "Epoch 7/30\n",
            "1407/1407 [==============================] - 3s 2ms/step - loss: 1.5403 - accuracy: 0.4579 - val_loss: 1.7970 - val_accuracy: 0.3640\n",
            "Epoch 8/30\n",
            "1392/1407 [============================>.] - ETA: 0s - loss: 1.5113 - accuracy: 0.4657INFO:tensorflow:Assets written to: temp_model.tf/assets\n",
            "1407/1407 [==============================] - 4s 3ms/step - loss: 1.5103 - accuracy: 0.4662 - val_loss: 1.7138 - val_accuracy: 0.4070\n",
            "Epoch 9/30\n",
            "1407/1407 [==============================] - 3s 2ms/step - loss: 1.4782 - accuracy: 0.4780 - val_loss: 1.7821 - val_accuracy: 0.3910\n",
            "Epoch 10/30\n",
            "1407/1407 [==============================] - 3s 2ms/step - loss: 1.4531 - accuracy: 0.4860 - val_loss: 1.7606 - val_accuracy: 0.3958\n",
            "Epoch 11/30\n",
            "1403/1407 [============================>.] - ETA: 0s - loss: 1.4249 - accuracy: 0.4955INFO:tensorflow:Assets written to: temp_model.tf/assets\n",
            "1407/1407 [==============================] - 4s 3ms/step - loss: 1.4259 - accuracy: 0.4952 - val_loss: 1.6843 - val_accuracy: 0.4110\n",
            "Epoch 12/30\n",
            "1407/1407 [==============================] - 4s 3ms/step - loss: 1.4027 - accuracy: 0.5056 - val_loss: 1.8789 - val_accuracy: 0.3900\n",
            "Epoch 13/30\n",
            "1394/1407 [============================>.] - ETA: 0s - loss: 1.3800 - accuracy: 0.5128INFO:tensorflow:Assets written to: temp_model.tf/assets\n",
            "1407/1407 [==============================] - 4s 3ms/step - loss: 1.3803 - accuracy: 0.5125 - val_loss: 1.6498 - val_accuracy: 0.4216\n",
            "Epoch 14/30\n",
            "1407/1407 [==============================] - 3s 2ms/step - loss: 1.3580 - accuracy: 0.5192 - val_loss: 1.7970 - val_accuracy: 0.3926\n",
            "Epoch 15/30\n",
            "1387/1407 [============================>.] - ETA: 0s - loss: 1.3356 - accuracy: 0.5277INFO:tensorflow:Assets written to: temp_model.tf/assets\n",
            "1407/1407 [==============================] - 4s 3ms/step - loss: 1.3362 - accuracy: 0.5274 - val_loss: 1.5964 - val_accuracy: 0.4472\n",
            "Epoch 16/30\n",
            "1407/1407 [==============================] - 3s 2ms/step - loss: 1.3124 - accuracy: 0.5367 - val_loss: 1.6213 - val_accuracy: 0.4322\n",
            "Epoch 17/30\n",
            "1404/1407 [============================>.] - ETA: 0s - loss: 1.3013 - accuracy: 0.5406INFO:tensorflow:Assets written to: temp_model.tf/assets\n",
            "1407/1407 [==============================] - 4s 3ms/step - loss: 1.3013 - accuracy: 0.5406 - val_loss: 1.5805 - val_accuracy: 0.4528\n",
            "Epoch 18/30\n",
            "1407/1407 [==============================] - 3s 2ms/step - loss: 1.2838 - accuracy: 0.5470 - val_loss: 1.7744 - val_accuracy: 0.4158\n",
            "Epoch 19/30\n",
            "1407/1407 [==============================] - 3s 2ms/step - loss: 1.2613 - accuracy: 0.5530 - val_loss: 2.2868 - val_accuracy: 0.3280\n",
            "Epoch 20/30\n",
            "1407/1407 [==============================] - 3s 2ms/step - loss: 1.2428 - accuracy: 0.5602 - val_loss: 1.6998 - val_accuracy: 0.4332\n",
            "Epoch 21/30\n",
            "1384/1407 [============================>.] - ETA: 0s - loss: 1.2249 - accuracy: 0.5680INFO:tensorflow:Assets written to: temp_model.tf/assets\n",
            "1407/1407 [==============================] - 4s 3ms/step - loss: 1.2246 - accuracy: 0.5682 - val_loss: 1.5655 - val_accuracy: 0.4528\n",
            "Epoch 22/30\n",
            "1407/1407 [==============================] - 3s 2ms/step - loss: 1.2072 - accuracy: 0.5705 - val_loss: 1.7184 - val_accuracy: 0.4450\n",
            "Epoch 23/30\n",
            "1407/1407 [==============================] - 3s 2ms/step - loss: 1.1880 - accuracy: 0.5779 - val_loss: 1.7649 - val_accuracy: 0.4184\n",
            "Epoch 24/30\n",
            "1407/1407 [==============================] - 3s 2ms/step - loss: 1.1685 - accuracy: 0.5855 - val_loss: 2.3919 - val_accuracy: 0.2946\n",
            "Epoch 25/30\n",
            "1397/1407 [============================>.] - ETA: 0s - loss: 1.1529 - accuracy: 0.5905INFO:tensorflow:Assets written to: temp_model.tf/assets\n",
            "1407/1407 [==============================] - 4s 3ms/step - loss: 1.1530 - accuracy: 0.5904 - val_loss: 1.4816 - val_accuracy: 0.4882\n",
            "Epoch 26/30\n",
            "1407/1407 [==============================] - 3s 2ms/step - loss: 1.1343 - accuracy: 0.5972 - val_loss: 1.5071 - val_accuracy: 0.4798\n",
            "Epoch 27/30\n",
            "1393/1407 [============================>.] - ETA: 0s - loss: 1.1189 - accuracy: 0.6028INFO:tensorflow:Assets written to: temp_model.tf/assets\n",
            "1407/1407 [==============================] - 4s 3ms/step - loss: 1.1190 - accuracy: 0.6030 - val_loss: 1.4677 - val_accuracy: 0.4908\n",
            "Epoch 28/30\n",
            "1404/1407 [============================>.] - ETA: 0s - loss: 1.0944 - accuracy: 0.6148INFO:tensorflow:Assets written to: temp_model.tf/assets\n",
            "1407/1407 [==============================] - 4s 3ms/step - loss: 1.0945 - accuracy: 0.6147 - val_loss: 1.4532 - val_accuracy: 0.5042\n",
            "Epoch 29/30\n",
            "1407/1407 [==============================] - 3s 2ms/step - loss: 1.0811 - accuracy: 0.6157 - val_loss: 1.5740 - val_accuracy: 0.4658\n",
            "Epoch 30/30\n",
            "1407/1407 [==============================] - 3s 2ms/step - loss: 1.0629 - accuracy: 0.6238 - val_loss: 1.5630 - val_accuracy: 0.4756\n"
          ],
          "name": "stdout"
        }
      ]
    },
    {
      "cell_type": "code",
      "metadata": {
        "id": "UrVm7A1DNMXp",
        "colab": {
          "base_uri": "https://localhost:8080/",
          "height": 445
        },
        "outputId": "bbf58a6b-68c2-47c5-a61f-7abb21382d8b"
      },
      "source": [
        "pd.DataFrame(history_2.history).plot(figsize=(10,7))"
      ],
      "execution_count": null,
      "outputs": [
        {
          "output_type": "execute_result",
          "data": {
            "text/plain": [
              "<matplotlib.axes._subplots.AxesSubplot at 0x7f486c62b748>"
            ]
          },
          "metadata": {
            "tags": []
          },
          "execution_count": 44
        },
        {
          "output_type": "display_data",
          "data": {
            "image/png": "[encoded data removed]",
            "text/plain": [
              "<Figure size 720x504 with 1 Axes>"
            ]
          },
          "metadata": {
            "tags": []
          }
        }
      ]
    },
    {
      "cell_type": "code",
      "metadata": {
        "id": "PnUBGvaANMai",
        "colab": {
          "base_uri": "https://localhost:8080/",
          "height": 50
        },
        "outputId": "286ebcf9-3002-464e-bbe4-f919a176c109"
      },
      "source": [
        "model_2.evaluate(X_test,y_test)"
      ],
      "execution_count": null,
      "outputs": [
        {
          "output_type": "stream",
          "text": [
            "313/313 [==============================] - 1s 2ms/step - loss: 1.5457 - accuracy: 0.4809\n"
          ],
          "name": "stdout"
        },
        {
          "output_type": "execute_result",
          "data": {
            "text/plain": [
              "[1.5456732511520386, 0.48089998960494995]"
            ]
          },
          "metadata": {
            "tags": []
          },
          "execution_count": 47
        }
      ]
    },
    {
      "cell_type": "markdown",
      "metadata": {
        "id": "M_2rH_PUgQiS"
      },
      "source": [
        "## The best model I found in this project by sequential API which is model_1 and the test accuracy of this model is 0.50."
      ]
    },
    {
      "cell_type": "code",
      "metadata": {
        "id": "6hqdkASlgPT0",
        "colab": {
          "base_uri": "https://localhost:8080/",
          "height": 445
        },
        "outputId": "cda74c11-8dd8-483c-9867-2dbf786d434c"
      },
      "source": [
        "# Plot of Accuracy vs Epoch (from best model)\n",
        "\n",
        "pd.DataFrame(history_01.history).plot(figsize=(10,7))"
      ],
      "execution_count": null,
      "outputs": [
        {
          "output_type": "execute_result",
          "data": {
            "text/plain": [
              "<matplotlib.axes._subplots.AxesSubplot at 0x7f486c2a44a8>"
            ]
          },
          "metadata": {
            "tags": []
          },
          "execution_count": 58
        },
        {
          "output_type": "display_data",
          "data": {
            "image/png": "[encoded data removed]",
            "text/plain": [
              "<Figure size 720x504 with 1 Axes>"
            ]
          },
          "metadata": {
            "tags": []
          }
        }
      ]
    },
    {
      "cell_type": "code",
      "metadata": {
        "id": "KMl5P8NBPsCK",
        "colab": {
          "base_uri": "https://localhost:8080/",
          "height": 240
        },
        "outputId": "58da12ee-2814-463c-e7b4-5a503ee24909"
      },
      "source": [
        "# Display misclassified images from best model\n",
        "import matplotlib.pyplot as plt\n",
        "\n",
        "predictions = model_1.predict_classes(X_test[:])\n",
        "misclassifiedIndexes = []\n",
        "index = 0\n",
        "for target, prediction in zip(y_test, predictions):\n",
        "  if target != prediction:\n",
        "    misclassifiedIndexes.append(index)\n",
        "  index += 1\n",
        "\n",
        "misclassifiedIndexes\n",
        "\n",
        "plt.figure(figsize=(20,4))\n",
        "for index in range(5):\n",
        "  plt.subplot(1,5,index+1)\n",
        "  plt.imshow(X_test[misclassifiedIndexes[index]].reshape(32,32,3))\n",
        "  plt.axis('off')\n",
        "  plt.title(f'Target: {y_test[misclassifiedIndexes[index]]}    Predicted: {predictions[misclassifiedIndexes[index]]}', fontsize=14)\n",
        "\n",
        "plt.show()"
      ],
      "execution_count": null,
      "outputs": [
        {
          "output_type": "display_data",
          "data": {
            "image/png": "[encoded data removed]",
            "text/plain": [
              "<Figure size 1440x288 with 5 Axes>"
            ]
          },
          "metadata": {
            "tags": []
          }
        }
      ]
    },
    {
      "cell_type": "code",
      "metadata": {
        "id": "nJO16-mzPsXI",
        "colab": {
          "base_uri": "https://localhost:8080/",
          "height": 302
        },
        "outputId": "3a11261f-3039-4393-84ee-314371e59d7c"
      },
      "source": [
        "# Accuracy for each class\n",
        "\n",
        "from sklearn.metrics import classification_report\n",
        "import numpy as np\n",
        "\n",
        "y_pred = model_1.predict_classes(X_test)\n",
        "print(classification_report(y_test, y_pred))"
      ],
      "execution_count": null,
      "outputs": [
        {
          "output_type": "stream",
          "text": [
            "              precision    recall  f1-score   support\n",
            "\n",
            "           0       0.67      0.46      0.54      1000\n",
            "           1       0.60      0.67      0.63      1000\n",
            "           2       0.37      0.43      0.40      1000\n",
            "           3       0.35      0.36      0.35      1000\n",
            "           4       0.49      0.38      0.43      1000\n",
            "           5       0.43      0.39      0.41      1000\n",
            "           6       0.50      0.62      0.56      1000\n",
            "           7       0.60      0.54      0.57      1000\n",
            "           8       0.66      0.63      0.64      1000\n",
            "           9       0.49      0.62      0.54      1000\n",
            "\n",
            "    accuracy                           0.51     10000\n",
            "   macro avg       0.52      0.51      0.51     10000\n",
            "weighted avg       0.52      0.51      0.51     10000\n",
            "\n"
          ],
          "name": "stdout"
        }
      ]
    },
    {
      "cell_type": "markdown",
      "metadata": {
        "id": "YO3MXbuomeOX"
      },
      "source": [
        "## If we see the individual class accuracy, then we can see the worse accuracy for class 3 where we are getting the best accuracy for class 8. \n"
      ]
    },
    {
      "cell_type": "markdown",
      "metadata": {
        "id": "PqAqKQjKvt2G"
      },
      "source": [
        "Note that convolution neural networks will be better predictors on this dataset than ANNs. We will revisit this in the final project (for undergraduates)."
      ]
    }
  ]
}